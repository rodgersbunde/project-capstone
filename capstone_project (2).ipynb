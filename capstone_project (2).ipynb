{
 "cells": [
  {
   "cell_type": "markdown",
   "metadata": {},
   "source": [
    "![Recipes](https://www.pngitem.com/pimgs/m/87-877725_recipes-png-transparent-png.png)\n"
   ]
  },
  {
   "cell_type": "markdown",
   "metadata": {},
   "source": [
    "### Project Overview\n",
    "\n",
    "Exploring the dynamics of user sentiments, behavior patterns, and recipe interactions, this project delves into the 'Recipe Reviews and User Feedback Dataset' to derive insights, develop a personalized recipe recommendation system, and enhance the culinary experience on online platforms."
   ]
  },
  {
   "cell_type": "markdown",
   "metadata": {
    "id": "vG6ohhHZ1Am9"
   },
   "source": [
    "## Background\n",
    "\n",
    "The \"Recipe Reviews and User Feedback Dataset\" is a comprehensive repository of data encompassing various aspects of recipe reviews and user interactions. It includes essential information such as the recipe name, its ranking on the top 100 recipes list, a unique recipe code, and user details like user ID, user name, and an internal user reputation score. Each review comment is uniquely identified with a comment ID and comes with additional attributes, including the creation timestamp, reply count, and the number of up-votes and down-votes received. Users' sentiment towards recipes is quantified on a 1 to 5 star rating scale, with a score of 0 denoting an absence of rating.  It offers a window into the dynamics of recipe reviews and user feedback within the culinary website domain."
   ]
  },
  {
   "cell_type": "markdown",
   "metadata": {
    "id": "EYEnVD7z0ZNw"
   },
   "source": [
    "## Business Problem\n",
    "\n",
    " Bay Bistro food company wants to enhance user engagement and satisfaction on its recipe platform by providing personalized recipe recommendations to users. The existing platform has a vast collection of recipes, but users often struggle to discover new recipes that match their preferences.\n",
    " Through this Miles group has been tasked to address this challenge by developing a recommendation system that analyzes user interactions and feedback to suggest relevant recipes tailored to each user's tastes and preferences."
   ]
  },
  {
   "cell_type": "markdown",
   "metadata": {
    "id": "of4Wl_WwFpbl"
   },
   "source": [
    "### Objectives\n",
    "**Detailed Sentiment Analysis**: Utilize the star ratings and review comments to conduct a nuanced sentiment analysis, exploring the relationship between user sentiment and review attributes such as up-votes/down-votes and reply counts.\n",
    "\n",
    "**User Behavior Analysis**:\n",
    "Understand user preferences and behavior by analyzing recipe reviews, ratings, and interactions.\n",
    "Identify popular recipes and trending ingredients based on user feedback.\n",
    "\n",
    "**Personalized Recipe Recommendations:**\n",
    "Develop a recommendation algorithm to suggest recipes tailored to each user's taste and preferences.\n",
    "Utilize collaborative filtering and content-based filtering techniques to enhance personalized recommendations.\n",
    "\n",
    "**User Interface and Experience Design:**\n",
    "Develop an intuitive and user-friendly interface for users to easily browse recipes, read reviews, and receive recommendations.\n"
   ]
  },
  {
   "cell_type": "markdown",
   "metadata": {
    "id": "mM7ZH7TKgUnP"
   },
   "source": [
    "## Data Understanding\n",
    "The data set contains the following columns:\n",
    "1. recipe name: {name of the recipe the comment was posted on}\n",
    "2. recipe number: {placement of the recipe on the top 100 recipes list}\n",
    "3. recipe code: {unique id of the recipe used by the site}\n",
    "4. comment id: {unique id of the comment}\n",
    "5. user id: {unique id of the user who left the comment}\n",
    "6. user name: {name of the user}\n",
    "7. user reputation: {internal score of the site, roughly quantifying the past behavior of the user}\n",
    "8. create at: {time at which the comment was posted as a Unix timestamp}\n",
    "9. reply count: {number of replies to the comment}\n",
    "10. thumbs up: {number of up-votes the comment has received}\n",
    "11. thumbs down: {number of down-votes the comment has received}\n",
    "12. stars: {the score on a 1 to 5 scale that the user gave to the recipe. A score of 0 means that no score was given}\n",
    "13. best score: {score of the comment, likely used by the site the help determine the order in the comments that appear in}\n",
    "14. text: {the text content of the comment}"
   ]
  },
  {
   "cell_type": "code",
   "execution_count": 2,
   "metadata": {
    "id": "cRx_pBcuvnCp"
   },
   "outputs": [],
   "source": [
    "#importing neccesary libraries\n",
    "import pandas as pd\n",
    "import numpy as np\n",
    "import matplotlib.pyplot as plt\n",
    "import seaborn as sns\n",
    "from surprise import Dataset, Reader\n",
    "from sklearn.metrics.pairwise import cosine_similarity\n",
    "from sklearn.model_selection import train_test_split,cross_validate\n",
    "from surprise import KNNWithMeans\n",
    "\n"
   ]
  },
  {
   "cell_type": "code",
   "execution_count": 3,
   "metadata": {
    "colab": {
     "base_uri": "https://localhost:8080/",
     "height": 400
    },
    "id": "vlijKoi0v5EX",
    "outputId": "59b4bd1a-3369-4670-c466-59da575a9ada"
   },
   "outputs": [
    {
     "data": {
      "text/html": [
       "<div>\n",
       "<style scoped>\n",
       "    .dataframe tbody tr th:only-of-type {\n",
       "        vertical-align: middle;\n",
       "    }\n",
       "\n",
       "    .dataframe tbody tr th {\n",
       "        vertical-align: top;\n",
       "    }\n",
       "\n",
       "    .dataframe thead th {\n",
       "        text-align: right;\n",
       "    }\n",
       "</style>\n",
       "<table border=\"1\" class=\"dataframe\">\n",
       "  <thead>\n",
       "    <tr style=\"text-align: right;\">\n",
       "      <th></th>\n",
       "      <th>recipe_number</th>\n",
       "      <th>recipe_code</th>\n",
       "      <th>recipe_name</th>\n",
       "      <th>comment_id</th>\n",
       "      <th>user_id</th>\n",
       "      <th>user_name</th>\n",
       "      <th>user_reputation</th>\n",
       "      <th>created_at</th>\n",
       "      <th>reply_count</th>\n",
       "      <th>thumbs_up</th>\n",
       "      <th>thumbs_down</th>\n",
       "      <th>stars</th>\n",
       "      <th>best_score</th>\n",
       "      <th>text</th>\n",
       "    </tr>\n",
       "  </thead>\n",
       "  <tbody>\n",
       "    <tr>\n",
       "      <th>0</th>\n",
       "      <td>1</td>\n",
       "      <td>14299</td>\n",
       "      <td>Creamy White Chili</td>\n",
       "      <td>sp_aUSaElGf_14299_c_2G3aneMRgRMZwXqIHmSdXSG1hEM</td>\n",
       "      <td>u_9iFLIhMa8QaG</td>\n",
       "      <td>Jeri326</td>\n",
       "      <td>1</td>\n",
       "      <td>1665619889</td>\n",
       "      <td>0.0</td>\n",
       "      <td>0</td>\n",
       "      <td>0</td>\n",
       "      <td>5</td>\n",
       "      <td>527</td>\n",
       "      <td>I tweaked it a little, removed onions because ...</td>\n",
       "    </tr>\n",
       "    <tr>\n",
       "      <th>1</th>\n",
       "      <td>1</td>\n",
       "      <td>14299</td>\n",
       "      <td>Creamy White Chili</td>\n",
       "      <td>sp_aUSaElGf_14299_c_2FsPC83HtzCsQAtOxlbL6RcaPbY</td>\n",
       "      <td>u_Lu6p25tmE77j</td>\n",
       "      <td>Mark467</td>\n",
       "      <td>50</td>\n",
       "      <td>1665277687</td>\n",
       "      <td>0.0</td>\n",
       "      <td>7</td>\n",
       "      <td>0</td>\n",
       "      <td>5</td>\n",
       "      <td>724</td>\n",
       "      <td>Bush used to have a white chili bean and it ma...</td>\n",
       "    </tr>\n",
       "    <tr>\n",
       "      <th>2</th>\n",
       "      <td>1</td>\n",
       "      <td>14299</td>\n",
       "      <td>Creamy White Chili</td>\n",
       "      <td>sp_aUSaElGf_14299_c_2FPrSGyTv7PQkZq37j92r9mYGkP</td>\n",
       "      <td>u_s0LwgpZ8Jsqq</td>\n",
       "      <td>Barbara566</td>\n",
       "      <td>10</td>\n",
       "      <td>1664404557</td>\n",
       "      <td>0.0</td>\n",
       "      <td>3</td>\n",
       "      <td>0</td>\n",
       "      <td>5</td>\n",
       "      <td>710</td>\n",
       "      <td>I have a very complicated white chicken chili ...</td>\n",
       "    </tr>\n",
       "    <tr>\n",
       "      <th>3</th>\n",
       "      <td>1</td>\n",
       "      <td>14299</td>\n",
       "      <td>Creamy White Chili</td>\n",
       "      <td>sp_aUSaElGf_14299_c_2DzdSIgV9qNiuBaLoZ7JQaartoC</td>\n",
       "      <td>u_fqrybAdYjgjG</td>\n",
       "      <td>jeansch123</td>\n",
       "      <td>1</td>\n",
       "      <td>1661787808</td>\n",
       "      <td>2.0</td>\n",
       "      <td>2</td>\n",
       "      <td>0</td>\n",
       "      <td>0</td>\n",
       "      <td>581</td>\n",
       "      <td>In your introduction, you mentioned cream chee...</td>\n",
       "    </tr>\n",
       "    <tr>\n",
       "      <th>4</th>\n",
       "      <td>1</td>\n",
       "      <td>14299</td>\n",
       "      <td>Creamy White Chili</td>\n",
       "      <td>sp_aUSaElGf_14299_c_2DtZJuRQYeTFwXBoZRfRhBPEXjI</td>\n",
       "      <td>u_XXWKwVhKZD69</td>\n",
       "      <td>camper77</td>\n",
       "      <td>10</td>\n",
       "      <td>1664913823</td>\n",
       "      <td>1.0</td>\n",
       "      <td>7</td>\n",
       "      <td>0</td>\n",
       "      <td>0</td>\n",
       "      <td>820</td>\n",
       "      <td>Wonderful! I made this for a &amp;#34;Chili/Stew&amp;#...</td>\n",
       "    </tr>\n",
       "  </tbody>\n",
       "</table>\n",
       "</div>"
      ],
      "text/plain": [
       "   recipe_number  recipe_code         recipe_name  \\\n",
       "0              1        14299  Creamy White Chili   \n",
       "1              1        14299  Creamy White Chili   \n",
       "2              1        14299  Creamy White Chili   \n",
       "3              1        14299  Creamy White Chili   \n",
       "4              1        14299  Creamy White Chili   \n",
       "\n",
       "                                        comment_id         user_id  \\\n",
       "0  sp_aUSaElGf_14299_c_2G3aneMRgRMZwXqIHmSdXSG1hEM  u_9iFLIhMa8QaG   \n",
       "1  sp_aUSaElGf_14299_c_2FsPC83HtzCsQAtOxlbL6RcaPbY  u_Lu6p25tmE77j   \n",
       "2  sp_aUSaElGf_14299_c_2FPrSGyTv7PQkZq37j92r9mYGkP  u_s0LwgpZ8Jsqq   \n",
       "3  sp_aUSaElGf_14299_c_2DzdSIgV9qNiuBaLoZ7JQaartoC  u_fqrybAdYjgjG   \n",
       "4  sp_aUSaElGf_14299_c_2DtZJuRQYeTFwXBoZRfRhBPEXjI  u_XXWKwVhKZD69   \n",
       "\n",
       "    user_name  user_reputation  created_at  reply_count  thumbs_up  \\\n",
       "0     Jeri326                1  1665619889          0.0          0   \n",
       "1     Mark467               50  1665277687          0.0          7   \n",
       "2  Barbara566               10  1664404557          0.0          3   \n",
       "3  jeansch123                1  1661787808          2.0          2   \n",
       "4    camper77               10  1664913823          1.0          7   \n",
       "\n",
       "   thumbs_down  stars  best_score  \\\n",
       "0            0      5         527   \n",
       "1            0      5         724   \n",
       "2            0      5         710   \n",
       "3            0      0         581   \n",
       "4            0      0         820   \n",
       "\n",
       "                                                text  \n",
       "0  I tweaked it a little, removed onions because ...  \n",
       "1  Bush used to have a white chili bean and it ma...  \n",
       "2  I have a very complicated white chicken chili ...  \n",
       "3  In your introduction, you mentioned cream chee...  \n",
       "4  Wonderful! I made this for a &#34;Chili/Stew&#...  "
      ]
     },
     "execution_count": 3,
     "metadata": {},
     "output_type": "execute_result"
    }
   ],
   "source": [
    "#loading the data set\n",
    "df1=pd.read_csv('Recipe.csv',index_col=0)\n",
    "df1.head()"
   ]
  },
  {
   "cell_type": "code",
   "execution_count": 4,
   "metadata": {
    "colab": {
     "base_uri": "https://localhost:8080/",
     "height": 206
    },
    "id": "K_NnNUx9lprQ",
    "outputId": "dde5f61b-c6af-4a97-a326-1130aa75df3d"
   },
   "outputs": [
    {
     "data": {
      "text/html": [
       "<div>\n",
       "<style scoped>\n",
       "    .dataframe tbody tr th:only-of-type {\n",
       "        vertical-align: middle;\n",
       "    }\n",
       "\n",
       "    .dataframe tbody tr th {\n",
       "        vertical-align: top;\n",
       "    }\n",
       "\n",
       "    .dataframe thead th {\n",
       "        text-align: right;\n",
       "    }\n",
       "</style>\n",
       "<table border=\"1\" class=\"dataframe\">\n",
       "  <thead>\n",
       "    <tr style=\"text-align: right;\">\n",
       "      <th></th>\n",
       "      <th>recipe_name</th>\n",
       "      <th>ingredients</th>\n",
       "      <th>cooking_instructions</th>\n",
       "    </tr>\n",
       "  </thead>\n",
       "  <tbody>\n",
       "    <tr>\n",
       "      <th>0</th>\n",
       "      <td>Creamy White Chili</td>\n",
       "      <td>1 lb chicken breast, diced\\n1 onion, chopped\\n...</td>\n",
       "      <td>In a large pot, cook diced chicken breast unti...</td>\n",
       "    </tr>\n",
       "    <tr>\n",
       "      <th>1</th>\n",
       "      <td>Best Ever Banana Bread</td>\n",
       "      <td>2-3 ripe bananas, mashed\\n1/3 cup melted butte...</td>\n",
       "      <td>1. Preheat oven to 350°F (175°C). Grease a 9x5...</td>\n",
       "    </tr>\n",
       "    <tr>\n",
       "      <th>2</th>\n",
       "      <td>Cheeseburger Soup</td>\n",
       "      <td>1 lb ground beef\\n1 onion, chopped\\n2 cloves g...</td>\n",
       "      <td>1. In a large pot, brown ground beef over medi...</td>\n",
       "    </tr>\n",
       "    <tr>\n",
       "      <th>3</th>\n",
       "      <td>Amish Breakfast Casserole</td>\n",
       "      <td>6 slices bread, cubed\\n1 lb bulk pork sausage,...</td>\n",
       "      <td>1. Preheat oven to 350°F (175°C). Grease a 9x1...</td>\n",
       "    </tr>\n",
       "    <tr>\n",
       "      <th>4</th>\n",
       "      <td>Pumpkin Spice Cupcakes with Cream Cheese Frosting</td>\n",
       "      <td>For the cupcakes:\\n1 1/2 cups all-purpose flou...</td>\n",
       "      <td>For the cupcakes:\\n1. Preheat oven to 350°F (1...</td>\n",
       "    </tr>\n",
       "  </tbody>\n",
       "</table>\n",
       "</div>"
      ],
      "text/plain": [
       "                                         recipe_name  \\\n",
       "0                                 Creamy White Chili   \n",
       "1                             Best Ever Banana Bread   \n",
       "2                                  Cheeseburger Soup   \n",
       "3                          Amish Breakfast Casserole   \n",
       "4  Pumpkin Spice Cupcakes with Cream Cheese Frosting   \n",
       "\n",
       "                                         ingredients  \\\n",
       "0  1 lb chicken breast, diced\\n1 onion, chopped\\n...   \n",
       "1  2-3 ripe bananas, mashed\\n1/3 cup melted butte...   \n",
       "2  1 lb ground beef\\n1 onion, chopped\\n2 cloves g...   \n",
       "3  6 slices bread, cubed\\n1 lb bulk pork sausage,...   \n",
       "4  For the cupcakes:\\n1 1/2 cups all-purpose flou...   \n",
       "\n",
       "                                cooking_instructions  \n",
       "0  In a large pot, cook diced chicken breast unti...  \n",
       "1  1. Preheat oven to 350°F (175°C). Grease a 9x5...  \n",
       "2  1. In a large pot, brown ground beef over medi...  \n",
       "3  1. Preheat oven to 350°F (175°C). Grease a 9x1...  \n",
       "4  For the cupcakes:\\n1. Preheat oven to 350°F (1...  "
      ]
     },
     "execution_count": 4,
     "metadata": {},
     "output_type": "execute_result"
    }
   ],
   "source": [
    "#loading the data set\n",
    "df2=pd.read_csv('ingredients.csv')\n",
    "df2.head()"
   ]
  },
  {
   "cell_type": "code",
   "execution_count": 5,
   "metadata": {
    "colab": {
     "base_uri": "https://localhost:8080/"
    },
    "id": "aAkrefsRnDxi",
    "outputId": "b5a18f3f-1ecd-4b95-df95-cf95a925ae30"
   },
   "outputs": [
    {
     "data": {
      "text/plain": [
       "(100, 3)"
      ]
     },
     "execution_count": 5,
     "metadata": {},
     "output_type": "execute_result"
    }
   ],
   "source": [
    "#checking data shape\n",
    "df2.shape"
   ]
  },
  {
   "cell_type": "code",
   "execution_count": 6,
   "metadata": {
    "colab": {
     "base_uri": "https://localhost:8080/"
    },
    "id": "pzdFZzKuy-bz",
    "outputId": "74a3dc57-0d7a-4a49-dcb0-ca5e89247414"
   },
   "outputs": [
    {
     "data": {
      "text/plain": [
       "(18182, 14)"
      ]
     },
     "execution_count": 6,
     "metadata": {},
     "output_type": "execute_result"
    }
   ],
   "source": [
    "#checking data shape\n",
    "df1.shape"
   ]
  },
  {
   "cell_type": "code",
   "execution_count": 7,
   "metadata": {
    "colab": {
     "base_uri": "https://localhost:8080/"
    },
    "id": "947aG5epcRyE",
    "outputId": "c11b2148-9ff4-4eb8-f676-bb4b4d1f9ba8"
   },
   "outputs": [
    {
     "name": "stdout",
     "output_type": "stream",
     "text": [
      "<class 'pandas.core.frame.DataFrame'>\n",
      "Index: 18182 entries, 0 to 118\n",
      "Data columns (total 14 columns):\n",
      " #   Column           Non-Null Count  Dtype  \n",
      "---  ------           --------------  -----  \n",
      " 0   recipe_number    18182 non-null  int64  \n",
      " 1   recipe_code      18182 non-null  int64  \n",
      " 2   recipe_name      18182 non-null  object \n",
      " 3   comment_id       18182 non-null  object \n",
      " 4   user_id          18182 non-null  object \n",
      " 5   user_name        18182 non-null  object \n",
      " 6   user_reputation  18182 non-null  int64  \n",
      " 7   created_at       18182 non-null  int64  \n",
      " 8   reply_count      18160 non-null  float64\n",
      " 9   thumbs_up        18182 non-null  int64  \n",
      " 10  thumbs_down      18182 non-null  int64  \n",
      " 11  stars            18182 non-null  int64  \n",
      " 12  best_score       18182 non-null  int64  \n",
      " 13  text             18180 non-null  object \n",
      "dtypes: float64(1), int64(8), object(5)\n",
      "memory usage: 2.1+ MB\n"
     ]
    }
   ],
   "source": [
    "#checking data information\n",
    "df1.info()"
   ]
  },
  {
   "cell_type": "code",
   "execution_count": 8,
   "metadata": {
    "colab": {
     "base_uri": "https://localhost:8080/"
    },
    "id": "yjo1ohj9qxBV",
    "outputId": "8c16a344-09a9-4ee0-b8d5-b9d04ae8b249"
   },
   "outputs": [
    {
     "name": "stdout",
     "output_type": "stream",
     "text": [
      "<class 'pandas.core.frame.DataFrame'>\n",
      "RangeIndex: 100 entries, 0 to 99\n",
      "Data columns (total 3 columns):\n",
      " #   Column                Non-Null Count  Dtype \n",
      "---  ------                --------------  ----- \n",
      " 0   recipe_name           100 non-null    object\n",
      " 1   ingredients           99 non-null     object\n",
      " 2   cooking_instructions  100 non-null    object\n",
      "dtypes: object(3)\n",
      "memory usage: 2.5+ KB\n"
     ]
    }
   ],
   "source": [
    "#checking data information\n",
    "df2.info()"
   ]
  },
  {
   "cell_type": "code",
   "execution_count": null,
   "metadata": {
    "id": "dD2vZvxsrEML"
   },
   "outputs": [],
   "source": []
  },
  {
   "cell_type": "markdown",
   "metadata": {
    "id": "EzXwz5CA3isK"
   },
   "source": [
    "### Data Preprocessing\n",
    "\n",
    "Data Cleaning"
   ]
  },
  {
   "cell_type": "markdown",
   "metadata": {
    "id": "1FBL7HP7lvhA"
   },
   "source": [
    "To ensure the development of a robust and accurate model, several data cleaning techniques will be applied to the dataset. The following techniques will be employed:\n",
    "\n",
    "- Completeness: This technique involves addressing missing values within the dataset. Steps will be taken to identify and handle missing data appropriately, either through imputation or removal, to ensure that the dataset is complete.\n",
    "\n",
    "- Consistency: The consistency of the data will be examined to identify any discrepancies or irregularities. Inconsistencies in variables, such as conflicting formats or conflicting information within the dataset, will be addressed and resolved to maintain data integrity.\n",
    "\n",
    "- Validity: Validity refers to the accuracy and relevance of the data. Data validation techniques will be applied to verify that the values within each variable align with expected ranges or predefined criteria. Any invalid or erroneous data points will be rectified or removed from the dataset.\n",
    "\n",
    "- Uniformity: Uniformity is crucial during the data cleaning process to ensure consistency and accurate analysis. Inconsistent or non-uniform data can introduce errors and bias into the modeling process, leading to unreliable results. Robust techniques will be employed to detect and handle non-uniformity effectively, ensuring that the data is standardized and aligned.\n",
    "\n",
    "By applying these data cleaning techniques, the dataset will be refined and prepared, ensuring the reliability and accuracy of the data before proceeding with the subsequent stages of analysis and modeling."
   ]
  },
  {
   "cell_type": "markdown",
   "metadata": {
    "id": "o0Ma9-YIl4Gj"
   },
   "source": [
    "### Completeness\n",
    "To achieve completeness in our data, I will be checking for missing values in the data."
   ]
  },
  {
   "cell_type": "code",
   "execution_count": 9,
   "metadata": {
    "colab": {
     "base_uri": "https://localhost:8080/"
    },
    "id": "-P7jIrOCl05J",
    "outputId": "02c95446-3efa-456b-d4a9-a61e82904680"
   },
   "outputs": [
    {
     "name": "stdout",
     "output_type": "stream",
     "text": [
      "The data has 24 missing values\n"
     ]
    }
   ],
   "source": [
    "# Check for null values\n",
    "print(f'The data has {df1.isna().sum().sum()} missing values')"
   ]
  },
  {
   "cell_type": "code",
   "execution_count": 10,
   "metadata": {
    "colab": {
     "base_uri": "https://localhost:8080/"
    },
    "id": "0QDPVIlLNSew",
    "outputId": "4ee76ec7-3592-4af9-88b2-ec573e602e28"
   },
   "outputs": [
    {
     "name": "stdout",
     "output_type": "stream",
     "text": [
      "The data has 1 missing values\n"
     ]
    }
   ],
   "source": [
    "# Check for null values\n",
    "print(f'The data has {df2.isna().sum().sum()} missing values')"
   ]
  },
  {
   "cell_type": "code",
   "execution_count": 11,
   "metadata": {
    "id": "zqY9_TMkmdKf"
   },
   "outputs": [],
   "source": [
    "# Define a function to explore missing data\n",
    "def missing_data(df1):\n",
    "    missing_data = df1.isna().sum()\n",
    "    missing_data = missing_data[missing_data>0]\n",
    "    return missing_data.to_frame()"
   ]
  },
  {
   "cell_type": "code",
   "execution_count": 12,
   "metadata": {
    "id": "8Avzk_8dNXMN"
   },
   "outputs": [],
   "source": [
    "# Define a function to explore missing data\n",
    "def missing_data(df2):\n",
    "    missing_data = df2.isna().sum()\n",
    "    missing_data = missing_data[missing_data>0]\n",
    "    return missing_data.to_frame()"
   ]
  },
  {
   "cell_type": "code",
   "execution_count": 13,
   "metadata": {
    "id": "SIpFd24zmfev"
   },
   "outputs": [],
   "source": [
    "# expanding the number of visible columns\n",
    "pd.set_option('display.max_columns', None)"
   ]
  },
  {
   "cell_type": "code",
   "execution_count": 14,
   "metadata": {
    "colab": {
     "base_uri": "https://localhost:8080/",
     "height": 81
    },
    "id": "q9CaTK7UmhyW",
    "outputId": "23de071b-0f74-4bcf-cb13-55c6c7bec3cd"
   },
   "outputs": [
    {
     "data": {
      "text/html": [
       "<div>\n",
       "<style scoped>\n",
       "    .dataframe tbody tr th:only-of-type {\n",
       "        vertical-align: middle;\n",
       "    }\n",
       "\n",
       "    .dataframe tbody tr th {\n",
       "        vertical-align: top;\n",
       "    }\n",
       "\n",
       "    .dataframe thead th {\n",
       "        text-align: right;\n",
       "    }\n",
       "</style>\n",
       "<table border=\"1\" class=\"dataframe\">\n",
       "  <thead>\n",
       "    <tr style=\"text-align: right;\">\n",
       "      <th></th>\n",
       "      <th>reply_count</th>\n",
       "      <th>text</th>\n",
       "    </tr>\n",
       "  </thead>\n",
       "  <tbody>\n",
       "    <tr>\n",
       "      <th>0</th>\n",
       "      <td>22</td>\n",
       "      <td>2</td>\n",
       "    </tr>\n",
       "  </tbody>\n",
       "</table>\n",
       "</div>"
      ],
      "text/plain": [
       "   reply_count  text\n",
       "0           22     2"
      ]
     },
     "execution_count": 14,
     "metadata": {},
     "output_type": "execute_result"
    }
   ],
   "source": [
    "# Apply missing_data function to the dataframe\n",
    "missing_data(df1).T"
   ]
  },
  {
   "cell_type": "code",
   "execution_count": 15,
   "metadata": {
    "colab": {
     "base_uri": "https://localhost:8080/",
     "height": 81
    },
    "id": "AOpmQzWzNhWP",
    "outputId": "b41159c5-18ab-406b-ebea-a3fd7f34272d"
   },
   "outputs": [
    {
     "data": {
      "text/html": [
       "<div>\n",
       "<style scoped>\n",
       "    .dataframe tbody tr th:only-of-type {\n",
       "        vertical-align: middle;\n",
       "    }\n",
       "\n",
       "    .dataframe tbody tr th {\n",
       "        vertical-align: top;\n",
       "    }\n",
       "\n",
       "    .dataframe thead th {\n",
       "        text-align: right;\n",
       "    }\n",
       "</style>\n",
       "<table border=\"1\" class=\"dataframe\">\n",
       "  <thead>\n",
       "    <tr style=\"text-align: right;\">\n",
       "      <th></th>\n",
       "      <th>ingredients</th>\n",
       "    </tr>\n",
       "  </thead>\n",
       "  <tbody>\n",
       "    <tr>\n",
       "      <th>0</th>\n",
       "      <td>1</td>\n",
       "    </tr>\n",
       "  </tbody>\n",
       "</table>\n",
       "</div>"
      ],
      "text/plain": [
       "   ingredients\n",
       "0            1"
      ]
     },
     "execution_count": 15,
     "metadata": {},
     "output_type": "execute_result"
    }
   ],
   "source": [
    "# Apply missing_data function to the dataframe\n",
    "missing_data(df2).T"
   ]
  },
  {
   "cell_type": "code",
   "execution_count": 16,
   "metadata": {
    "id": "6OnkvKw-mvx8"
   },
   "outputs": [],
   "source": [
    "# Fill missing values in 'reply_count' column with 0\n",
    "df1['reply_count'].fillna(0, inplace=True)"
   ]
  },
  {
   "cell_type": "code",
   "execution_count": 17,
   "metadata": {
    "id": "c-57TW67nxwe"
   },
   "outputs": [],
   "source": [
    "# Droping rows where the \"text\" column is missing\n",
    "df1 = df1.dropna(subset=['text'])"
   ]
  },
  {
   "cell_type": "code",
   "execution_count": 18,
   "metadata": {
    "id": "W-ej03rkjuSy"
   },
   "outputs": [],
   "source": [
    "# Droping rows where the \"ingredients\" column is missing\n",
    "df2 = df2.dropna(subset=['ingredients'])"
   ]
  },
  {
   "cell_type": "code",
   "execution_count": 19,
   "metadata": {
    "colab": {
     "base_uri": "https://localhost:8080/"
    },
    "id": "1XWMRyKUwsu1",
    "outputId": "6f0ecbcf-eedf-47be-e7a0-496dce097726"
   },
   "outputs": [],
   "source": [
    "# converting 'created_at' to datetime\n",
    "df1['created_at'] = pd.to_datetime(df1['created_at'], unit='s')"
   ]
  },
  {
   "cell_type": "code",
   "execution_count": 20,
   "metadata": {
    "colab": {
     "base_uri": "https://localhost:8080/"
    },
    "id": "Z7nQv-Alm6nO",
    "outputId": "ff7a1849-9d5f-4ea9-9d2e-b106f3c29771"
   },
   "outputs": [
    {
     "name": "stdout",
     "output_type": "stream",
     "text": [
      "The data has 0 missing values\n"
     ]
    }
   ],
   "source": [
    "# checking to see if missing values have been replaced\n",
    "print(f'The data has {df1.isna().sum().sum()} missing values')"
   ]
  },
  {
   "cell_type": "code",
   "execution_count": 21,
   "metadata": {
    "colab": {
     "base_uri": "https://localhost:8080/"
    },
    "id": "efYAb8n7Nzhj",
    "outputId": "c41d23dd-d69f-440a-de7c-e3023f8bf6a8"
   },
   "outputs": [
    {
     "name": "stdout",
     "output_type": "stream",
     "text": [
      "The data has 0 missing values\n"
     ]
    }
   ],
   "source": [
    "# checking to see if missing values have been replaced\n",
    "print(f'The data has {df2.isna().sum().sum()} missing values')"
   ]
  },
  {
   "cell_type": "markdown",
   "metadata": {
    "id": "ItjK_O_GrkMU"
   },
   "source": [
    "### Consistency\n",
    "For the data to be constistent, I need to resolve any inconsistencies by checking for duplicate values in our data."
   ]
  },
  {
   "cell_type": "code",
   "execution_count": 22,
   "metadata": {
    "colab": {
     "base_uri": "https://localhost:8080/"
    },
    "id": "enKQk7w7reP_",
    "outputId": "6f0d370f-7f9d-4e05-9f32-5690ba494e67"
   },
   "outputs": [
    {
     "name": "stdout",
     "output_type": "stream",
     "text": [
      "The data has 0 duplicates\n"
     ]
    }
   ],
   "source": [
    "# checking for duplicates\n",
    "print(f'The data has {df1.duplicated().sum()} duplicates')"
   ]
  },
  {
   "cell_type": "code",
   "execution_count": 23,
   "metadata": {
    "colab": {
     "base_uri": "https://localhost:8080/"
    },
    "id": "kwZqMQViN7CN",
    "outputId": "fc51c682-6b9a-4dff-b5d2-f9cc6a56cd65"
   },
   "outputs": [
    {
     "name": "stdout",
     "output_type": "stream",
     "text": [
      "The data has 0 duplicates\n"
     ]
    }
   ],
   "source": [
    "# checking for duplicates\n",
    "print(f'The data has {df2.duplicated().sum()} duplicates')"
   ]
  },
  {
   "cell_type": "markdown",
   "metadata": {
    "id": "cezifzuRr1U8"
   },
   "source": [
    "- The data has no duplicate values"
   ]
  },
  {
   "cell_type": "markdown",
   "metadata": {
    "id": "HEDQVHgmr8_i"
   },
   "source": [
    "### Validity\n",
    "\n",
    "For our data to be valid, I have to verify that every column is accurate and appropriate for this analysis and remove those that are invalid."
   ]
  },
  {
   "cell_type": "code",
   "execution_count": 24,
   "metadata": {
    "colab": {
     "base_uri": "https://localhost:8080/",
     "height": 358
    },
    "id": "cCIPop6wsBUK",
    "outputId": "af69f356-275f-4519-a439-533ae8e71e27"
   },
   "outputs": [
    {
     "data": {
      "text/html": [
       "<div>\n",
       "<style scoped>\n",
       "    .dataframe tbody tr th:only-of-type {\n",
       "        vertical-align: middle;\n",
       "    }\n",
       "\n",
       "    .dataframe tbody tr th {\n",
       "        vertical-align: top;\n",
       "    }\n",
       "\n",
       "    .dataframe thead th {\n",
       "        text-align: right;\n",
       "    }\n",
       "</style>\n",
       "<table border=\"1\" class=\"dataframe\">\n",
       "  <thead>\n",
       "    <tr style=\"text-align: right;\">\n",
       "      <th></th>\n",
       "      <th>recipe_number</th>\n",
       "      <th>recipe_code</th>\n",
       "      <th>recipe_name</th>\n",
       "      <th>comment_id</th>\n",
       "      <th>user_id</th>\n",
       "      <th>user_name</th>\n",
       "      <th>user_reputation</th>\n",
       "      <th>created_at</th>\n",
       "      <th>reply_count</th>\n",
       "      <th>thumbs_up</th>\n",
       "      <th>thumbs_down</th>\n",
       "      <th>stars</th>\n",
       "      <th>best_score</th>\n",
       "      <th>text</th>\n",
       "    </tr>\n",
       "  </thead>\n",
       "  <tbody>\n",
       "    <tr>\n",
       "      <th>0</th>\n",
       "      <td>1</td>\n",
       "      <td>14299</td>\n",
       "      <td>Creamy White Chili</td>\n",
       "      <td>sp_aUSaElGf_14299_c_2G3aneMRgRMZwXqIHmSdXSG1hEM</td>\n",
       "      <td>u_9iFLIhMa8QaG</td>\n",
       "      <td>Jeri326</td>\n",
       "      <td>1</td>\n",
       "      <td>2022-10-13 00:11:29</td>\n",
       "      <td>0.0</td>\n",
       "      <td>0</td>\n",
       "      <td>0</td>\n",
       "      <td>5</td>\n",
       "      <td>527</td>\n",
       "      <td>I tweaked it a little, removed onions because ...</td>\n",
       "    </tr>\n",
       "    <tr>\n",
       "      <th>1</th>\n",
       "      <td>1</td>\n",
       "      <td>14299</td>\n",
       "      <td>Creamy White Chili</td>\n",
       "      <td>sp_aUSaElGf_14299_c_2FsPC83HtzCsQAtOxlbL6RcaPbY</td>\n",
       "      <td>u_Lu6p25tmE77j</td>\n",
       "      <td>Mark467</td>\n",
       "      <td>50</td>\n",
       "      <td>2022-10-09 01:08:07</td>\n",
       "      <td>0.0</td>\n",
       "      <td>7</td>\n",
       "      <td>0</td>\n",
       "      <td>5</td>\n",
       "      <td>724</td>\n",
       "      <td>Bush used to have a white chili bean and it ma...</td>\n",
       "    </tr>\n",
       "  </tbody>\n",
       "</table>\n",
       "</div>"
      ],
      "text/plain": [
       "   recipe_number  recipe_code         recipe_name  \\\n",
       "0              1        14299  Creamy White Chili   \n",
       "1              1        14299  Creamy White Chili   \n",
       "\n",
       "                                        comment_id         user_id user_name  \\\n",
       "0  sp_aUSaElGf_14299_c_2G3aneMRgRMZwXqIHmSdXSG1hEM  u_9iFLIhMa8QaG   Jeri326   \n",
       "1  sp_aUSaElGf_14299_c_2FsPC83HtzCsQAtOxlbL6RcaPbY  u_Lu6p25tmE77j   Mark467   \n",
       "\n",
       "   user_reputation          created_at  reply_count  thumbs_up  thumbs_down  \\\n",
       "0                1 2022-10-13 00:11:29          0.0          0            0   \n",
       "1               50 2022-10-09 01:08:07          0.0          7            0   \n",
       "\n",
       "   stars  best_score                                               text  \n",
       "0      5         527  I tweaked it a little, removed onions because ...  \n",
       "1      5         724  Bush used to have a white chili bean and it ma...  "
      ]
     },
     "execution_count": 24,
     "metadata": {},
     "output_type": "execute_result"
    }
   ],
   "source": [
    "#validity checks\n",
    "df1.head(2)"
   ]
  },
  {
   "cell_type": "code",
   "execution_count": 25,
   "metadata": {
    "colab": {
     "base_uri": "https://localhost:8080/",
     "height": 112
    },
    "id": "GfHZsM0yOnvD",
    "outputId": "39eac9fa-7e69-440c-cabb-af0d943f3c64"
   },
   "outputs": [
    {
     "data": {
      "text/html": [
       "<div>\n",
       "<style scoped>\n",
       "    .dataframe tbody tr th:only-of-type {\n",
       "        vertical-align: middle;\n",
       "    }\n",
       "\n",
       "    .dataframe tbody tr th {\n",
       "        vertical-align: top;\n",
       "    }\n",
       "\n",
       "    .dataframe thead th {\n",
       "        text-align: right;\n",
       "    }\n",
       "</style>\n",
       "<table border=\"1\" class=\"dataframe\">\n",
       "  <thead>\n",
       "    <tr style=\"text-align: right;\">\n",
       "      <th></th>\n",
       "      <th>recipe_name</th>\n",
       "      <th>ingredients</th>\n",
       "      <th>cooking_instructions</th>\n",
       "    </tr>\n",
       "  </thead>\n",
       "  <tbody>\n",
       "    <tr>\n",
       "      <th>0</th>\n",
       "      <td>Creamy White Chili</td>\n",
       "      <td>1 lb chicken breast, diced\\n1 onion, chopped\\n...</td>\n",
       "      <td>In a large pot, cook diced chicken breast unti...</td>\n",
       "    </tr>\n",
       "    <tr>\n",
       "      <th>1</th>\n",
       "      <td>Best Ever Banana Bread</td>\n",
       "      <td>2-3 ripe bananas, mashed\\n1/3 cup melted butte...</td>\n",
       "      <td>1. Preheat oven to 350°F (175°C). Grease a 9x5...</td>\n",
       "    </tr>\n",
       "  </tbody>\n",
       "</table>\n",
       "</div>"
      ],
      "text/plain": [
       "              recipe_name                                        ingredients  \\\n",
       "0      Creamy White Chili  1 lb chicken breast, diced\\n1 onion, chopped\\n...   \n",
       "1  Best Ever Banana Bread  2-3 ripe bananas, mashed\\n1/3 cup melted butte...   \n",
       "\n",
       "                                cooking_instructions  \n",
       "0  In a large pot, cook diced chicken breast unti...  \n",
       "1  1. Preheat oven to 350°F (175°C). Grease a 9x5...  "
      ]
     },
     "execution_count": 25,
     "metadata": {},
     "output_type": "execute_result"
    }
   ],
   "source": [
    "#validity checks\n",
    "df2.head(2)"
   ]
  },
  {
   "cell_type": "markdown",
   "metadata": {
    "id": "9-v_QBb1ul4B"
   },
   "source": [
    "### Uniformity\n",
    "- For our data to be uniform, I have to verify that every column is correct and convert them to there appropriate data type."
   ]
  },
  {
   "cell_type": "code",
   "execution_count": 26,
   "metadata": {
    "colab": {
     "base_uri": "https://localhost:8080/"
    },
    "id": "_2v7dnZvuoTi",
    "outputId": "12fd1b86-00e8-4a01-f985-a7bae11cf857"
   },
   "outputs": [
    {
     "data": {
      "text/plain": [
       "recipe_number               int64\n",
       "recipe_code                 int64\n",
       "recipe_name                object\n",
       "comment_id                 object\n",
       "user_id                    object\n",
       "user_name                  object\n",
       "user_reputation             int64\n",
       "created_at         datetime64[ns]\n",
       "reply_count               float64\n",
       "thumbs_up                   int64\n",
       "thumbs_down                 int64\n",
       "stars                       int64\n",
       "best_score                  int64\n",
       "text                       object\n",
       "dtype: object"
      ]
     },
     "execution_count": 26,
     "metadata": {},
     "output_type": "execute_result"
    }
   ],
   "source": [
    "#checking for data types\n",
    "df1.dtypes"
   ]
  },
  {
   "cell_type": "code",
   "execution_count": 27,
   "metadata": {
    "id": "K5G7n1uWux2_"
   },
   "outputs": [],
   "source": [
    "#Converting data types 'reply_count' to integer\n",
    "df1['reply_count'] = df1['reply_count'].astype(int)"
   ]
  },
  {
   "cell_type": "code",
   "execution_count": 28,
   "metadata": {
    "id": "bysY4sxPkSs7"
   },
   "outputs": [],
   "source": [
    "# Convert user_id to integer values\n",
    "df1['user_id'] = df1['user_id'].rank(method='dense').astype(int)"
   ]
  },
  {
   "cell_type": "markdown",
   "metadata": {
    "id": "c0kD8BndvcAc"
   },
   "source": [
    "## Feature engineering"
   ]
  },
  {
   "cell_type": "code",
   "execution_count": 29,
   "metadata": {
    "id": "CnP0GHgjOOT-"
   },
   "outputs": [],
   "source": [
    "#Merging df1 and df2\n",
    "df=pd.merge(df1,df2, on='recipe_name',how='left')\n"
   ]
  },
  {
   "cell_type": "code",
   "execution_count": 30,
   "metadata": {
    "id": "2c8EkqQ8eVmZ"
   },
   "outputs": [],
   "source": [
    "# Rename the \"stars\" column to \"ratings\"\n",
    "df.rename(columns={'stars': 'ratings'}, inplace=True)"
   ]
  },
  {
   "cell_type": "code",
   "execution_count": 31,
   "metadata": {
    "id": "NZVjZZQDLt50"
   },
   "outputs": [],
   "source": [
    "# Extract column and create a new 'month' column\n",
    "df['month'] = df['created_at'].dt.month"
   ]
  },
  {
   "cell_type": "code",
   "execution_count": 33,
   "metadata": {
    "id": "WtEdQ1wxt8TL"
   },
   "outputs": [],
   "source": [
    "#Creating a new column 'average_rating' with the calculated mean value\n",
    "df['average_rating']=df['ratings'].mean()"
   ]
  },
  {
   "cell_type": "code",
   "execution_count": 34,
   "metadata": {
    "colab": {
     "base_uri": "https://localhost:8080/",
     "height": 573
    },
    "id": "CQnVKrxOuzEC",
    "outputId": "c281961e-125e-4dd2-ecc4-4aa62ee9d734"
   },
   "outputs": [
    {
     "data": {
      "text/html": [
       "<div>\n",
       "<style scoped>\n",
       "    .dataframe tbody tr th:only-of-type {\n",
       "        vertical-align: middle;\n",
       "    }\n",
       "\n",
       "    .dataframe tbody tr th {\n",
       "        vertical-align: top;\n",
       "    }\n",
       "\n",
       "    .dataframe thead th {\n",
       "        text-align: right;\n",
       "    }\n",
       "</style>\n",
       "<table border=\"1\" class=\"dataframe\">\n",
       "  <thead>\n",
       "    <tr style=\"text-align: right;\">\n",
       "      <th></th>\n",
       "      <th>recipe_number</th>\n",
       "      <th>recipe_code</th>\n",
       "      <th>recipe_name</th>\n",
       "      <th>comment_id</th>\n",
       "      <th>user_id</th>\n",
       "      <th>user_name</th>\n",
       "      <th>user_reputation</th>\n",
       "      <th>created_at</th>\n",
       "      <th>reply_count</th>\n",
       "      <th>thumbs_up</th>\n",
       "      <th>thumbs_down</th>\n",
       "      <th>ratings</th>\n",
       "      <th>best_score</th>\n",
       "      <th>text</th>\n",
       "      <th>ingredients</th>\n",
       "      <th>cooking_instructions</th>\n",
       "      <th>month</th>\n",
       "      <th>average_rating</th>\n",
       "    </tr>\n",
       "  </thead>\n",
       "  <tbody>\n",
       "    <tr>\n",
       "      <th>0</th>\n",
       "      <td>1</td>\n",
       "      <td>14299</td>\n",
       "      <td>Creamy White Chili</td>\n",
       "      <td>sp_aUSaElGf_14299_c_2G3aneMRgRMZwXqIHmSdXSG1hEM</td>\n",
       "      <td>13114</td>\n",
       "      <td>Jeri326</td>\n",
       "      <td>1</td>\n",
       "      <td>2022-10-13 00:11:29</td>\n",
       "      <td>0</td>\n",
       "      <td>0</td>\n",
       "      <td>0</td>\n",
       "      <td>5</td>\n",
       "      <td>527</td>\n",
       "      <td>I tweaked it a little, removed onions because ...</td>\n",
       "      <td>1 lb chicken breast, diced\\n1 onion, chopped\\n...</td>\n",
       "      <td>In a large pot, cook diced chicken breast unti...</td>\n",
       "      <td>10</td>\n",
       "      <td>4.288724</td>\n",
       "    </tr>\n",
       "    <tr>\n",
       "      <th>1</th>\n",
       "      <td>1</td>\n",
       "      <td>14299</td>\n",
       "      <td>Creamy White Chili</td>\n",
       "      <td>sp_aUSaElGf_14299_c_2FsPC83HtzCsQAtOxlbL6RcaPbY</td>\n",
       "      <td>13276</td>\n",
       "      <td>Mark467</td>\n",
       "      <td>50</td>\n",
       "      <td>2022-10-09 01:08:07</td>\n",
       "      <td>0</td>\n",
       "      <td>7</td>\n",
       "      <td>0</td>\n",
       "      <td>5</td>\n",
       "      <td>724</td>\n",
       "      <td>Bush used to have a white chili bean and it ma...</td>\n",
       "      <td>1 lb chicken breast, diced\\n1 onion, chopped\\n...</td>\n",
       "      <td>In a large pot, cook diced chicken breast unti...</td>\n",
       "      <td>10</td>\n",
       "      <td>4.288724</td>\n",
       "    </tr>\n",
       "    <tr>\n",
       "      <th>2</th>\n",
       "      <td>1</td>\n",
       "      <td>14299</td>\n",
       "      <td>Creamy White Chili</td>\n",
       "      <td>sp_aUSaElGf_14299_c_2FPrSGyTv7PQkZq37j92r9mYGkP</td>\n",
       "      <td>13695</td>\n",
       "      <td>Barbara566</td>\n",
       "      <td>10</td>\n",
       "      <td>2022-09-28 22:35:57</td>\n",
       "      <td>0</td>\n",
       "      <td>3</td>\n",
       "      <td>0</td>\n",
       "      <td>5</td>\n",
       "      <td>710</td>\n",
       "      <td>I have a very complicated white chicken chili ...</td>\n",
       "      <td>1 lb chicken breast, diced\\n1 onion, chopped\\n...</td>\n",
       "      <td>In a large pot, cook diced chicken breast unti...</td>\n",
       "      <td>9</td>\n",
       "      <td>4.288724</td>\n",
       "    </tr>\n",
       "    <tr>\n",
       "      <th>3</th>\n",
       "      <td>1</td>\n",
       "      <td>14299</td>\n",
       "      <td>Creamy White Chili</td>\n",
       "      <td>sp_aUSaElGf_14299_c_2DzdSIgV9qNiuBaLoZ7JQaartoC</td>\n",
       "      <td>13533</td>\n",
       "      <td>jeansch123</td>\n",
       "      <td>1</td>\n",
       "      <td>2022-08-29 15:43:28</td>\n",
       "      <td>2</td>\n",
       "      <td>2</td>\n",
       "      <td>0</td>\n",
       "      <td>0</td>\n",
       "      <td>581</td>\n",
       "      <td>In your introduction, you mentioned cream chee...</td>\n",
       "      <td>1 lb chicken breast, diced\\n1 onion, chopped\\n...</td>\n",
       "      <td>In a large pot, cook diced chicken breast unti...</td>\n",
       "      <td>8</td>\n",
       "      <td>4.288724</td>\n",
       "    </tr>\n",
       "    <tr>\n",
       "      <th>4</th>\n",
       "      <td>1</td>\n",
       "      <td>14299</td>\n",
       "      <td>Creamy White Chili</td>\n",
       "      <td>sp_aUSaElGf_14299_c_2DtZJuRQYeTFwXBoZRfRhBPEXjI</td>\n",
       "      <td>13433</td>\n",
       "      <td>camper77</td>\n",
       "      <td>10</td>\n",
       "      <td>2022-10-04 20:03:43</td>\n",
       "      <td>1</td>\n",
       "      <td>7</td>\n",
       "      <td>0</td>\n",
       "      <td>0</td>\n",
       "      <td>820</td>\n",
       "      <td>Wonderful! I made this for a &amp;#34;Chili/Stew&amp;#...</td>\n",
       "      <td>1 lb chicken breast, diced\\n1 onion, chopped\\n...</td>\n",
       "      <td>In a large pot, cook diced chicken breast unti...</td>\n",
       "      <td>10</td>\n",
       "      <td>4.288724</td>\n",
       "    </tr>\n",
       "  </tbody>\n",
       "</table>\n",
       "</div>"
      ],
      "text/plain": [
       "   recipe_number  recipe_code         recipe_name  \\\n",
       "0              1        14299  Creamy White Chili   \n",
       "1              1        14299  Creamy White Chili   \n",
       "2              1        14299  Creamy White Chili   \n",
       "3              1        14299  Creamy White Chili   \n",
       "4              1        14299  Creamy White Chili   \n",
       "\n",
       "                                        comment_id  user_id   user_name  \\\n",
       "0  sp_aUSaElGf_14299_c_2G3aneMRgRMZwXqIHmSdXSG1hEM    13114     Jeri326   \n",
       "1  sp_aUSaElGf_14299_c_2FsPC83HtzCsQAtOxlbL6RcaPbY    13276     Mark467   \n",
       "2  sp_aUSaElGf_14299_c_2FPrSGyTv7PQkZq37j92r9mYGkP    13695  Barbara566   \n",
       "3  sp_aUSaElGf_14299_c_2DzdSIgV9qNiuBaLoZ7JQaartoC    13533  jeansch123   \n",
       "4  sp_aUSaElGf_14299_c_2DtZJuRQYeTFwXBoZRfRhBPEXjI    13433    camper77   \n",
       "\n",
       "   user_reputation          created_at  reply_count  thumbs_up  thumbs_down  \\\n",
       "0                1 2022-10-13 00:11:29            0          0            0   \n",
       "1               50 2022-10-09 01:08:07            0          7            0   \n",
       "2               10 2022-09-28 22:35:57            0          3            0   \n",
       "3                1 2022-08-29 15:43:28            2          2            0   \n",
       "4               10 2022-10-04 20:03:43            1          7            0   \n",
       "\n",
       "   ratings  best_score                                               text  \\\n",
       "0        5         527  I tweaked it a little, removed onions because ...   \n",
       "1        5         724  Bush used to have a white chili bean and it ma...   \n",
       "2        5         710  I have a very complicated white chicken chili ...   \n",
       "3        0         581  In your introduction, you mentioned cream chee...   \n",
       "4        0         820  Wonderful! I made this for a &#34;Chili/Stew&#...   \n",
       "\n",
       "                                         ingredients  \\\n",
       "0  1 lb chicken breast, diced\\n1 onion, chopped\\n...   \n",
       "1  1 lb chicken breast, diced\\n1 onion, chopped\\n...   \n",
       "2  1 lb chicken breast, diced\\n1 onion, chopped\\n...   \n",
       "3  1 lb chicken breast, diced\\n1 onion, chopped\\n...   \n",
       "4  1 lb chicken breast, diced\\n1 onion, chopped\\n...   \n",
       "\n",
       "                                cooking_instructions  month  average_rating  \n",
       "0  In a large pot, cook diced chicken breast unti...     10        4.288724  \n",
       "1  In a large pot, cook diced chicken breast unti...     10        4.288724  \n",
       "2  In a large pot, cook diced chicken breast unti...      9        4.288724  \n",
       "3  In a large pot, cook diced chicken breast unti...      8        4.288724  \n",
       "4  In a large pot, cook diced chicken breast unti...     10        4.288724  "
      ]
     },
     "execution_count": 34,
     "metadata": {},
     "output_type": "execute_result"
    }
   ],
   "source": [
    "df.head()"
   ]
  },
  {
   "cell_type": "markdown",
   "metadata": {
    "id": "x3ltn6TtRApu"
   },
   "source": [
    "### EXPLORATORY DATA ANALYSIS"
   ]
  },
  {
   "cell_type": "markdown",
   "metadata": {
    "id": "Xayu9imH0ZNI"
   },
   "source": [
    "#### Visualization of rating distribution"
   ]
  },
  {
   "cell_type": "code",
   "execution_count": 35,
   "metadata": {
    "colab": {
     "base_uri": "https://localhost:8080/",
     "height": 564
    },
    "id": "FtFrZ_2VeSwr",
    "outputId": "9359d752-f935-485c-f883-cc9b95cadfbb"
   },
   "outputs": [
    {
     "data": {
      "image/png": "[encoded data removed]",
      "text/plain": [
       "<Figure size 800x600 with 1 Axes>"
      ]
     },
     "metadata": {},
     "output_type": "display_data"
    }
   ],
   "source": [
    "# Plotting with seaborn and matplotlib\n",
    "plt.figure(figsize=(8, 6))\n",
    "plt.hist(df['ratings'], bins=10, color='skyblue', edgecolor='black')\n",
    "plt.title('Distribution of ratings')\n",
    "plt.xlabel('ratings')\n",
    "plt.ylabel('Frequency')\n",
    "plt.show()"
   ]
  },
  {
   "cell_type": "markdown",
   "metadata": {
    "id": "5qkLfasI6wp7"
   },
   "source": [
    "`Observation`\n",
    "\n",
    "There seems to be a concentration of bars on the right side of the graph, suggesting a higher frequency of recipes receiving positive ratings.However, there's also a range of ratings, indicating some variation in user preferences."
   ]
  },
  {
   "cell_type": "markdown",
   "metadata": {
    "id": "TqCOylAo1kX1"
   },
   "source": [
    "#### Visualizing rating trends over months"
   ]
  },
  {
   "cell_type": "code",
   "execution_count": 36,
   "metadata": {
    "colab": {
     "base_uri": "https://localhost:8080/",
     "height": 607
    },
    "id": "CIA25wzfvHvn",
    "outputId": "89ee1e20-1613-49ac-ac56-0ebc77b929e1"
   },
   "outputs": [
    {
     "data": {
      "image/png": "[encoded data removed]",
      "text/plain": [
       "<Figure size 1000x600 with 1 Axes>"
      ]
     },
     "metadata": {},
     "output_type": "display_data"
    }
   ],
   "source": [
    "# Grouping by month to calculate average ratings\n",
    "ratings_trend = df.groupby('month')['ratings'].mean().reset_index()\n",
    "\n",
    "# Plotting\n",
    "plt.figure(figsize=(10, 6))\n",
    "plt.plot(ratings_trend['month'], ratings_trend['ratings'], marker='o')\n",
    "plt.title('Average Ratings Trend Over Time')\n",
    "plt.xlabel('month')\n",
    "plt.ylabel('Average Ratings')\n",
    "plt.xticks(rotation=45)\n",
    "plt.grid(False)\n",
    "plt.tight_layout()\n",
    "plt.show()\n",
    "\n",
    "\n"
   ]
  },
  {
   "cell_type": "markdown",
   "metadata": {
    "id": "L-mD8MdO5ZK1"
   },
   "source": [
    "`Observation`\n",
    "\n",
    "- The line shows some fluctuations in the average rating over time.There's a possibility of a slight downward trend in the average rating as the months progress"
   ]
  },
  {
   "cell_type": "markdown",
   "metadata": {
    "id": "oH4STbjS0Nv6"
   },
   "source": [
    "### Top 5 recipes"
   ]
  },
  {
   "cell_type": "code",
   "execution_count": 37,
   "metadata": {
    "colab": {
     "base_uri": "https://localhost:8080/",
     "height": 607
    },
    "id": "_bku7zgaRbtR",
    "outputId": "7091689a-ed85-4047-cfbb-38d145c55a46"
   },
   "outputs": [
    {
     "data": {
      "image/png": "[encoded data removed]",
      "text/plain": [
       "<Figure size 1000x600 with 1 Axes>"
      ]
     },
     "metadata": {},
     "output_type": "display_data"
    }
   ],
   "source": [
    "# Group by recipe and count the number of stars, then sort in descending order\n",
    "top_10_recipes = df.groupby('recipe_name')['ratings'].count().sort_values(ascending=False).head()\n",
    "# list of custom colors for the bars\n",
    "custom_colors = ['#06837f', '#02cecb', '#b4ffff', '#f8e16c', '#fed811']\n",
    "# bar plot with custom colors\n",
    "plt.figure(figsize=(10, 6))\n",
    "ax = top_10_recipes.plot(kind='bar', color=custom_colors)\n",
    "plt.title('Top 5 Recipes')\n",
    "plt.xlabel('Recipes')\n",
    "plt.ylabel('Number of ratings')\n",
    "plt.xticks(rotation=45, ha='right')\n",
    "plt.tight_layout()\n",
    "\n",
    "# Add the number of ratings on top of each bar\n",
    "for i, v in enumerate(top_10_recipes):\n",
    " ax.text(i, v, str(v), ha='center', va='bottom', fontsize=16, color='black')\n",
    "plt.show()"
   ]
  },
  {
   "cell_type": "markdown",
   "metadata": {
    "id": "WHSjWXCz2fI6"
   },
   "source": [
    "### Visualization Top 10 recipe"
   ]
  },
  {
   "cell_type": "code",
   "execution_count": 38,
   "metadata": {
    "colab": {
     "base_uri": "https://localhost:8080/",
     "height": 607
    },
    "id": "-18OpmBZ2d0K",
    "outputId": "05a7c030-ab51-48fe-c551-31824ab99db9"
   },
   "outputs": [
    {
     "data": {
      "image/png": "[encoded data removed]",
      "text/plain": [
       "<Figure size 1000x600 with 1 Axes>"
      ]
     },
     "metadata": {},
     "output_type": "display_data"
    }
   ],
   "source": [
    "# Group by recipe_name and count the number of ratings\n",
    "top_10_recipes = df['recipe_name'].value_counts().head(10)\n",
    "\n",
    "# Plotting\n",
    "plt.figure(figsize=(10, 6))\n",
    "top_10_recipes.plot(kind='bar', color='skyblue')\n",
    "plt.title('Top 10 Recipes ')\n",
    "plt.xlabel('Recipe Name')\n",
    "plt.ylabel('Count of Ratings')\n",
    "plt.xticks(rotation=45, ha='right')\n",
    "plt.tight_layout()\n",
    "plt.show()"
   ]
  },
  {
   "cell_type": "markdown",
   "metadata": {
    "id": "vyzF5WrRWht3"
   },
   "source": [
    " `Observation`\n",
    "\n",
    " The graph suggests that Cheeseburger Soup,Creamy White Chili,Best Ever Banana Bread,Enchilada Casserole-Ole!,Basic Homemade Bread,Favorite Chicken Potpie,Flavorful Chicken Fajitas,Amish Breakfast Casserole,Zucchini Pizza Casserole,Cauliflower Soupthese  are the most popular recipes among users based on the number of ratings they have received"
   ]
  },
  {
   "cell_type": "markdown",
   "metadata": {
    "id": "Wu7mvTp9vVkW"
   },
   "source": [
    "#### Multivariate Analysis\n",
    "\n",
    "Our aim here is to look for the relationship between different features\n",
    "\n",
    "First we look at the correlation of the numeric columns using Pearson's coefficient"
   ]
  },
  {
   "cell_type": "code",
   "execution_count": 39,
   "metadata": {
    "colab": {
     "base_uri": "https://localhost:8080/",
     "height": 237
    },
    "id": "cIiVoPCvsEyb",
    "outputId": "32682bd6-f8df-4cae-f4c1-e5eafc8c67f6"
   },
   "outputs": [
    {
     "data": {
      "text/html": [
       "<div>\n",
       "<style scoped>\n",
       "    .dataframe tbody tr th:only-of-type {\n",
       "        vertical-align: middle;\n",
       "    }\n",
       "\n",
       "    .dataframe tbody tr th {\n",
       "        vertical-align: top;\n",
       "    }\n",
       "\n",
       "    .dataframe thead th {\n",
       "        text-align: right;\n",
       "    }\n",
       "</style>\n",
       "<table border=\"1\" class=\"dataframe\">\n",
       "  <thead>\n",
       "    <tr style=\"text-align: right;\">\n",
       "      <th></th>\n",
       "      <th>user_reputation</th>\n",
       "      <th>reply_count</th>\n",
       "      <th>thumbs_up</th>\n",
       "      <th>thumbs_down</th>\n",
       "      <th>ratings</th>\n",
       "      <th>best_score</th>\n",
       "    </tr>\n",
       "  </thead>\n",
       "  <tbody>\n",
       "    <tr>\n",
       "      <th>user_reputation</th>\n",
       "      <td>1.000000</td>\n",
       "      <td>0.010609</td>\n",
       "      <td>0.057860</td>\n",
       "      <td>0.022888</td>\n",
       "      <td>0.015560</td>\n",
       "      <td>0.137896</td>\n",
       "    </tr>\n",
       "    <tr>\n",
       "      <th>reply_count</th>\n",
       "      <td>0.010609</td>\n",
       "      <td>1.000000</td>\n",
       "      <td>0.208786</td>\n",
       "      <td>0.327619</td>\n",
       "      <td>-0.119689</td>\n",
       "      <td>0.201303</td>\n",
       "    </tr>\n",
       "    <tr>\n",
       "      <th>thumbs_up</th>\n",
       "      <td>0.057860</td>\n",
       "      <td>0.208786</td>\n",
       "      <td>1.000000</td>\n",
       "      <td>0.373248</td>\n",
       "      <td>-0.050872</td>\n",
       "      <td>0.684834</td>\n",
       "    </tr>\n",
       "    <tr>\n",
       "      <th>thumbs_down</th>\n",
       "      <td>0.022888</td>\n",
       "      <td>0.327619</td>\n",
       "      <td>0.373248</td>\n",
       "      <td>1.000000</td>\n",
       "      <td>-0.142549</td>\n",
       "      <td>0.215397</td>\n",
       "    </tr>\n",
       "    <tr>\n",
       "      <th>ratings</th>\n",
       "      <td>0.015560</td>\n",
       "      <td>-0.119689</td>\n",
       "      <td>-0.050872</td>\n",
       "      <td>-0.142549</td>\n",
       "      <td>1.000000</td>\n",
       "      <td>-0.034245</td>\n",
       "    </tr>\n",
       "    <tr>\n",
       "      <th>best_score</th>\n",
       "      <td>0.137896</td>\n",
       "      <td>0.201303</td>\n",
       "      <td>0.684834</td>\n",
       "      <td>0.215397</td>\n",
       "      <td>-0.034245</td>\n",
       "      <td>1.000000</td>\n",
       "    </tr>\n",
       "  </tbody>\n",
       "</table>\n",
       "</div>"
      ],
      "text/plain": [
       "                 user_reputation  reply_count  thumbs_up  thumbs_down  \\\n",
       "user_reputation         1.000000     0.010609   0.057860     0.022888   \n",
       "reply_count             0.010609     1.000000   0.208786     0.327619   \n",
       "thumbs_up               0.057860     0.208786   1.000000     0.373248   \n",
       "thumbs_down             0.022888     0.327619   0.373248     1.000000   \n",
       "ratings                 0.015560    -0.119689  -0.050872    -0.142549   \n",
       "best_score              0.137896     0.201303   0.684834     0.215397   \n",
       "\n",
       "                  ratings  best_score  \n",
       "user_reputation  0.015560    0.137896  \n",
       "reply_count     -0.119689    0.201303  \n",
       "thumbs_up       -0.050872    0.684834  \n",
       "thumbs_down     -0.142549    0.215397  \n",
       "ratings          1.000000   -0.034245  \n",
       "best_score      -0.034245    1.000000  "
      ]
     },
     "execution_count": 39,
     "metadata": {},
     "output_type": "execute_result"
    }
   ],
   "source": [
    "# Pearson coefficient of numeric columns\n",
    "numerical_columns_df = df[[\n",
    "    'user_reputation',\n",
    "    'reply_count',\n",
    "    'thumbs_up',\n",
    "    'thumbs_down',\n",
    "    'ratings',\n",
    "    'best_score'\n",
    "\n",
    "]]\n",
    "numerical_columns_df.corr()"
   ]
  },
  {
   "cell_type": "markdown",
   "metadata": {
    "id": "cEeEtIJlJW8I"
   },
   "source": [
    "`Observations`\n",
    "\n",
    " The correlation matrix provides valuable insights into the relationships between different features.\n",
    " For instance, thumbs up and best score have a strong positive correlation, suggesting that users who give more thumbs up tend to have higher best scores. On the other hand, reply count and ratings have a weak negative relationship, implying that users who reply more may give slightly lower ratings."
   ]
  },
  {
   "cell_type": "markdown",
   "metadata": {
    "id": "E0KBP4z_loBw"
   },
   "source": [
    "### MODELLING"
   ]
  },
  {
   "cell_type": "markdown",
   "metadata": {
    "id": "erQcDGRRHuoT"
   },
   "source": [
    "## Item-Based Collaborative Filtering\n",
    "\n",
    "its recommendation technique that focuses on the similarity between items rather than between users."
   ]
  },
  {
   "cell_type": "code",
   "execution_count": 40,
   "metadata": {
    "id": "KlQ3L8FOwmpW"
   },
   "outputs": [],
   "source": [
    "#preparing the data by converting the provided DataFrame to a surprise dataset\n",
    "ratings_df = pd.DataFrame(df)\n",
    "\n",
    "# Define the reader object\n",
    "reader = Reader(rating_scale=(0, 100))\n",
    "\n",
    "# Load data from DataFrame\n",
    "data = Dataset.load_from_df(ratings_df[['user_id', 'recipe_code', 'ratings']], reader)\n"
   ]
  },
  {
   "cell_type": "code",
   "execution_count": 41,
   "metadata": {
    "colab": {
     "base_uri": "https://localhost:8080/"
    },
    "id": "34sie8HGOXUJ",
    "outputId": "a4507fe6-61db-4fe9-d6e6-3d6b86d508d8"
   },
   "outputs": [
    {
     "name": "stdout",
     "output_type": "stream",
     "text": [
      "Estimating biases using als...\n",
      "Computing the pearson_baseline similarity matrix...\n",
      "Done computing similarity matrix.\n",
      "RMSE: 1.5185\n",
      "Item-Based CF RMSE: 1.5185457790767714\n",
      "MAE:  1.0000\n",
      "Item-Based CF MAE: 1.0000236522925245\n"
     ]
    }
   ],
   "source": [
    "from surprise import KNNWithMeans\n",
    "from surprise.model_selection import train_test_split\n",
    "\n",
    "# Split the dataset into train and test sets\n",
    "trainset, testset = train_test_split(data, test_size=0.25)\n",
    "\n",
    "# Use item-based collaborative filtering\n",
    "algo_item_based = KNNWithMeans(k=5, sim_options={'name': 'pearson_baseline', 'user_based': False})\n",
    "algo_item_based.fit(trainset)\n",
    "\n",
    "# Predict ratings for the test set\n",
    "predictions_item_based = algo_item_based.test(testset)\n",
    "\n",
    "# Print RMSE (Root Mean Square Error)\n",
    "from surprise import accuracy\n",
    "print(\"Item-Based CF RMSE:\", accuracy.rmse(predictions_item_based))\n",
    "print(\"Item-Based CF MAE:\", accuracy.mae(predictions_item_based))"
   ]
  },
  {
   "cell_type": "markdown",
   "metadata": {
    "id": "W1t0bzWOt1rr"
   },
   "source": [
    "`Observation`\n",
    "\n",
    "The reported RMSE of 1.5476 and MAE of 1.0135 suggest that the item-based collaborative filtering model using Pearson-baseline similarity performs reasonably well."
   ]
  },
  {
   "cell_type": "markdown",
   "metadata": {
    "id": "j6h3uqfuHyhi"
   },
   "source": [
    "### User-Based Collaborative Filtering\n",
    " The recommendation technique used in information filtering systems to provide personalized recommendations to users"
   ]
  },
  {
   "cell_type": "code",
   "execution_count": 42,
   "metadata": {
    "colab": {
     "base_uri": "https://localhost:8080/"
    },
    "id": "PhNH93J2nRws",
    "outputId": "559ab860-dbcb-4a0e-91d7-044171d3d0e4"
   },
   "outputs": [
    {
     "name": "stdout",
     "output_type": "stream",
     "text": [
      "Estimating biases using als...\n",
      "Computing the pearson_baseline similarity matrix...\n",
      "Done computing similarity matrix.\n",
      "RMSE: 1.5412\n",
      "User-Based CF RMSE: 1.5412465746901716\n",
      "MAE:  0.9857\n",
      "User-Based CF MAE: 0.9856940381415084\n"
     ]
    }
   ],
   "source": [
    "# Use user-based collaborative filtering\n",
    "algo_user_based = KNNWithMeans(k=5, sim_options={'name': 'pearson_baseline', 'user_based': True})\n",
    "algo_user_based.fit(trainset)\n",
    "\n",
    "# Predict ratings for the test set\n",
    "predictions_user_based = algo_user_based.test(testset)\n",
    "\n",
    "# Print RMSE (Root Mean Square Error)\n",
    "print(\"User-Based CF RMSE:\", accuracy.rmse(predictions_user_based))\n",
    "print(\"User-Based CF MAE:\",accuracy.mae(predictions_user_based))"
   ]
  },
  {
   "cell_type": "markdown",
   "metadata": {
    "id": "Gd4fNvP5uONB"
   },
   "source": [
    "`Observation`\n",
    "- The RMSE value of 1.5642 indicates that on average, the model's predictions deviate from the actual values by about 1.5642 units\n",
    "- The MAE value of 0.9911 indicates that on average, the absolute difference between the model's predictions and the actual values is 0.9911 units.\n",
    "- The reported RMSE of 1.5642 and MAE of 0.9911 suggest that the user-based collaborative filtering model performs reasonably well"
   ]
  },
  {
   "cell_type": "markdown",
   "metadata": {
    "id": "fFqLVzHGLb_q"
   },
   "source": [
    "## Single Value Decomposition"
   ]
  },
  {
   "cell_type": "code",
   "execution_count": 43,
   "metadata": {
    "colab": {
     "base_uri": "https://localhost:8080/"
    },
    "id": "UxERyP-_Bix1",
    "outputId": "72f2d320-7a57-4d58-9eaa-0eda00f99561"
   },
   "outputs": [
    {
     "name": "stdout",
     "output_type": "stream",
     "text": [
      "RMSE: 1.4452\n",
      "SVD RMSE: 1.4452242493407155\n",
      "MAE:  0.9874\n",
      "SVD MAE: 0.987408243979533\n"
     ]
    }
   ],
   "source": [
    "from surprise import SVD\n",
    "# Split the dataset into train and test sets\n",
    "trainset, testset = train_test_split(data, test_size=0.25)\n",
    "\n",
    "# Use SVD\n",
    "model = SVD()\n",
    "\n",
    "# Fit the model\n",
    "model.fit(trainset)\n",
    "\n",
    "# Predict ratings for the test set\n",
    "predictions = model.test(testset)\n",
    "\n",
    "# Print RMSE (Root Mean Square Error)\n",
    "print(\"SVD RMSE:\", accuracy.rmse(predictions))\n",
    "print(\"SVD MAE:\", accuracy.mae(predictions))"
   ]
  },
  {
   "cell_type": "markdown",
   "metadata": {
    "id": "3dRDfy_Tz1OO"
   },
   "source": [
    "`Observation`\n",
    "\n",
    "The reported RMSE of 1.4522 and MAE of 0.9920 suggest that the SVD model is performing reasonably well, with an average deviation of about 1.4522 units from the actual values and an average absolute difference of 0.9920 units. The lower MAE compared to RMSE indicates that the model has some larger errors, but overall, it is making accurate predictions."
   ]
  },
  {
   "cell_type": "markdown",
   "metadata": {
    "id": "KWv8PPc0oKz3"
   },
   "source": [
    "### Recommendations based on SVD\n",
    "\n",
    "To generate recommendations using SVD, a userID to whom which recommendations are to be made is taken an input. SVD model\n",
    "is used to predicted rating for each recipe which represent how much the user might like each recipe. The ratings are sorted in a\n",
    "descending order and recommendations is given to the user.\n"
   ]
  },
  {
   "cell_type": "code",
   "execution_count": 44,
   "metadata": {
    "colab": {
     "base_uri": "https://localhost:8080/"
    },
    "id": "B-aBpjteuURQ",
    "outputId": "72b4b8c0-687d-4570-c8ac-1d592abf508e"
   },
   "outputs": [
    {
     "name": "stdout",
     "output_type": "stream",
     "text": [
      "Recipe Name: Pumpkin Bread, Recipe code: 1196, Predicted Rating: 4.981130116258023\n",
      "Recipe Name: Zucchini Pizza Casserole, Recipe code: 2912, Predicted Rating: 4.932807429596204\n",
      "Recipe Name: Stuffed Pepper Soup, Recipe code: 2872, Predicted Rating: 4.904190692862158\n",
      "Recipe Name: Flavorful Chicken Fajitas, Recipe code: 12540, Predicted Rating: 4.83564930406671\n",
      "Recipe Name: Forgotten Jambalaya, Recipe code: 39549, Predicted Rating: 4.809250761104764\n",
      "Recipe Name: Peanut Butter Chocolate Dessert, Recipe code: 19201, Predicted Rating: 4.799245692897149\n",
      "Recipe Name: Special Banana Nut Bread, Recipe code: 38550, Predicted Rating: 4.797829618249356\n",
      "Recipe Name: Corn Pudding, Recipe code: 31278, Predicted Rating: 4.793049309831046\n",
      "Recipe Name: Rustic Italian Tortellini Soup, Recipe code: 41101, Predicted Rating: 4.7740273809674525\n",
      "Recipe Name: Pumpkin Spice Cupcakes with Cream Cheese Frosting, Recipe code: 42386, Predicted Rating: 4.767826261856197\n"
     ]
    }
   ],
   "source": [
    "# Recommend movies for a specific user (user_id = 1 in this example)\n",
    "user_id = 13114\n",
    "user_recipe = df[df['user_id'] == user_id]['recipe_code'].unique()\n",
    "# Generate recommendations for the user\n",
    "recommended_recipe = []\n",
    "for recipe_code in df['recipe_code'].unique():\n",
    " if recipe_code not in user_recipe:\n",
    "  predicted_ratings = model.predict(user_id, recipe_code).est\n",
    "  recommended_recipe.append((recipe_code, predicted_ratings))\n",
    "\n",
    "# Sort recommended movies by predicted rating\n",
    "recommended_recipe.sort(key=lambda x: x[1], reverse=True)\n",
    "\n",
    "# Print top 10 recommended recipes\n",
    "for recipe_code, predicted_rating in recommended_recipe[:10]:\n",
    " recipe_name = df[df['recipe_code'] == recipe_code]['recipe_name'].iloc[0]\n",
    " print(f\"Recipe Name: {recipe_name}, Recipe code: {recipe_code}, Predicted Rating: {predicted_rating}\")"
   ]
  },
  {
   "cell_type": "markdown",
   "metadata": {
    "id": "OXMO2AOWmF5h"
   },
   "source": [
    "`Observation`\n",
    "\n",
    "The output represents top recommended recipes along with their predicted ratings. These recommendations  help users discover popular and potentially enjoyable recipes, enhancing user engagement and satisfaction with the recipe platform or service."
   ]
  },
  {
   "cell_type": "markdown",
   "metadata": {
    "id": "AtEM7O9yrt0p"
   },
   "source": [
    "### Hyperparameter tunning"
   ]
  },
  {
   "cell_type": "code",
   "execution_count": 45,
   "metadata": {
    "colab": {
     "base_uri": "https://localhost:8080/"
    },
    "id": "YGRFmIsUzjUC",
    "outputId": "466d3bca-ebcf-4fa0-d74e-d3d29ea6aa83"
   },
   "outputs": [
    {
     "name": "stdout",
     "output_type": "stream",
     "text": [
      "Best parameters: {'n_factors': 50, 'n_epochs': 40, 'lr_all': 0.005}\n",
      "RMSE values: [1.51080703 1.50184159 1.47357425 1.50723455 1.49057292 1.47070934\n",
      " 1.50237585 1.48051133 1.46663291 1.50879963 1.49816644 1.47184298\n",
      " 1.5039401  1.48524892 1.46895161 1.49769054 1.47674597 1.46714238\n",
      " 1.50771283 1.49500869 1.4707144  1.50180285 1.48032521 1.4679894\n",
      " 1.49476481 1.47336975 1.46763892]\n",
      "MAE values: [1.04145712 1.03530206 1.00645626 1.03854854 1.02493933 0.99309057\n",
      " 1.03507656 1.01486865 0.98454582 1.03924238 1.03229089 0.99913775\n",
      " 1.0361528  1.02053049 0.98914543 1.03051499 1.00844863 0.98180088\n",
      " 1.03861048 1.02824191 0.997368   1.03404887 1.01424494 0.98555549\n",
      " 1.0273429  1.00240016 0.98171078]\n"
     ]
    }
   ],
   "source": [
    "from surprise.model_selection import GridSearchCV\n",
    "# Define parameter grid\n",
    "param_grid = {'n_factors': [50, 100, 150], 'n_epochs': [20, 30, 40], 'lr_all': [0.001, 0.002, 0.005]}\n",
    "# Instantiate SVD\n",
    "model = SVD()\n",
    "\n",
    "# Perform grid search with cross-validation\n",
    "grid_search = GridSearchCV(SVD, param_grid, measures=['rmse', 'mae'], cv=5, n_jobs=-1)\n",
    "grid_search.fit(data)\n",
    "# Get best parameters\n",
    "best_params = grid_search.best_params['rmse']\n",
    "print(\"Best parameters:\", best_params)\n",
    "#getting rmse score\n",
    "cv_results = grid_search.cv_results\n",
    "\n",
    "# Extract RMSEand MAE values\n",
    "rmse_values = cv_results['mean_test_rmse']\n",
    "mae_values = cv_results['mean_test_mae']\n",
    "\n",
    "# Print RMSE and MAE values\n",
    "print(\"RMSE values:\", rmse_values)\n",
    "print(\"MAE values:\", mae_values)"
   ]
  },
  {
   "cell_type": "markdown",
   "metadata": {
    "id": "BWqrIYw5ydWf"
   },
   "source": [
    "`Observation`\n",
    "- The RMSE values range from 1.4619 to 1.5099, with the lowest value being 1.4619\n",
    "- The MAE values range from 0.9810 to 1.0414, with the lowest value being 0.9810.\n",
    "\n",
    "The range of RMSE and MAE values suggests that the SVD model with the specified parameters performs reasonably well on the dataset. The lowest RMSE value of 1.4619 and the lowest MAE value of 0.9810 indicate the best predictive performance of the model.\n",
    "\n",
    "---\n",
    "\n"
   ]
  },
  {
   "cell_type": "code",
   "execution_count": 46,
   "metadata": {
    "colab": {
     "base_uri": "https://localhost:8080/"
    },
    "id": "TtCN1IE0rKFr",
    "outputId": "b10eda72-a2c4-488c-9b08-8ca785590fd0"
   },
   "outputs": [
    {
     "name": "stdout",
     "output_type": "stream",
     "text": [
      "Top 10 recipe recommendations for user 845:\n",
      "1: Recipe Code 82745 (Estimated Rating: 5.037843596051413)\n",
      "2: Recipe Code 14600 (Estimated Rating: 5.026029851266734)\n",
      "3: Recipe Code 8431 (Estimated Rating: 5.004513446116708)\n",
      "4: Recipe Code 12540 (Estimated Rating: 4.9986773760077705)\n",
      "5: Recipe Code 19201 (Estimated Rating: 4.925508075200486)\n",
      "6: Recipe Code 31278 (Estimated Rating: 4.893689415677744)\n",
      "7: Recipe Code 9739 (Estimated Rating: 4.877216427412279)\n",
      "8: Recipe Code 27626 (Estimated Rating: 4.86463202226045)\n",
      "9: Recipe Code 1196 (Estimated Rating: 4.860214742277182)\n",
      "10: Recipe Code 41101 (Estimated Rating: 4.818294492806762)\n"
     ]
    }
   ],
   "source": [
    "# Initialize and train the SVD model\n",
    "model = SVD(**best_params)\n",
    "trainset = data.build_full_trainset()\n",
    "model.fit(trainset)\n",
    "\n",
    "# Get the list of all recipe codes\n",
    "all_recipe_codes = df['recipe_code'].unique()\n",
    "\n",
    "# Generate top-10 recipe recommendations for each user\n",
    "top_n = {}\n",
    "for uid in df['user_id'].unique():\n",
    "    # Exclude recipes already rated by the user\n",
    "    user_recipe_rated = df.loc[df['user_id'] == uid, 'recipe_code']\n",
    "    recipe_to_predict = [rid for rid in all_recipe_codes if rid not in user_recipe_rated]\n",
    "\n",
    "    # Predict ratings for recipes not yet rated by the user\n",
    "    predictions = [model.predict(uid, rid) for rid in recipe_to_predict]\n",
    "\n",
    "    # Sort predictions by estimated rating\n",
    "    sorted_predictions = sorted(predictions, key=lambda x: x.est, reverse=True)\n",
    "\n",
    "    # Get top 10 recipe recommendations\n",
    "    top_n[uid] = [(pred.iid, pred.est) for pred in sorted_predictions[:10]]\n",
    "\n",
    "# Print the top 10 recommendations for a specific user\n",
    "\n",
    "print(f\"Top 10 recipe recommendations for user {uid}:\")\n",
    "for rank, (recipe_code, estimated_rating) in enumerate(top_n[uid], start=1):\n",
    "    print(f\"{rank}: Recipe Code {recipe_code} (Estimated Rating: {estimated_rating})\")"
   ]
  },
  {
   "cell_type": "markdown",
   "metadata": {
    "id": "gdtnz-7UqtF5"
   },
   "source": [
    "- The estimated ratings are numerical values generated by the SVD model, representing how much the model predicts the user would like each recipe.\n",
    "- Higher estimated ratings indicate recipes that the model believes the user is more likely to enjoy or rate highly."
   ]
  },
  {
   "cell_type": "markdown",
   "metadata": {
    "id": "yExzFPBqsTQ-"
   },
   "source": [
    "#### Non- negative Matrix Factorization\n",
    "\n",
    "This is a matrix Factorization technique that factors the user-item interaction matrix into non-negative matrices.\n",
    "\n",
    "Non-negative Matrix Factorization (NMF) offers a parts-based, interpretable representation of the data, making it particularly useful for recommendation systems. It can capture latent features or topics that represent underlying preferences or characteristics of users and items.\n",
    "\n",
    "NMF will help enhance the performance and scalability of recommendation systems"
   ]
  },
  {
   "cell_type": "code",
   "execution_count": 47,
   "metadata": {
    "colab": {
     "base_uri": "https://localhost:8080/",
     "height": 732
    },
    "id": "VC53HlyUsJ3g",
    "outputId": "fa7b6078-15e2-445f-abfe-149a6c33af31"
   },
   "outputs": [
    {
     "name": "stdout",
     "output_type": "stream",
     "text": [
      "Evaluating RMSE, MAE of algorithm NMF on 5 split(s).\n",
      "\n",
      "                  Fold 1  Fold 2  Fold 3  Fold 4  Fold 5  Mean    Std     \n",
      "RMSE (testset)    1.4985  1.5617  1.5241  1.5572  1.5125  1.5308  0.0248  \n",
      "MAE (testset)     1.0280  1.0658  1.0440  1.0650  1.0270  1.0460  0.0170  \n",
      "Fit time          1.48    1.46    1.45    1.44    1.47    1.46    0.01    \n",
      "Test time         0.05    0.03    0.04    0.03    0.04    0.04    0.00    \n",
      "Cross-validation results: {'test_rmse': array([1.49845634, 1.56167143, 1.52414304, 1.55716943, 1.51245449]), 'test_mae': array([1.02800579, 1.06579125, 1.04404238, 1.06504887, 1.02696476]), 'fit_time': (1.4769039154052734, 1.4550654888153076, 1.452486276626587, 1.4375526905059814, 1.4689743518829346), 'test_time': (0.04710745811462402, 0.034889936447143555, 0.03647184371948242, 0.03488779067993164, 0.04046320915222168)}\n"
     ]
    },
    {
     "data": {
      "image/png": "[encoded data removed]",
      "text/plain": [
       "<Figure size 800x600 with 1 Axes>"
      ]
     },
     "metadata": {},
     "output_type": "display_data"
    }
   ],
   "source": [
    "from surprise import NMF\n",
    "from surprise.model_selection import cross_validate\n",
    "import matplotlib.pyplot as plt\n",
    "import numpy as np\n",
    "np.random.seed(42)\n",
    "\n",
    "# NMF algorithm\n",
    "nmf = NMF()\n",
    "\n",
    "# Perform cross-validation\n",
    "cv_results = cross_validate(nmf, data, measures=['RMSE', 'MAE'], cv=5, verbose=True)\n",
    "# Extract RMSE scores\n",
    "rmse_scores = cv_results['test_rmse']\n",
    "\n",
    "print(\"Cross-validation results:\", cv_results)\n",
    "\n",
    "# Plot RMSE scores\n",
    "plt.figure(figsize=(8, 6))\n",
    "plt.plot(range(1, 6), rmse_scores, marker='o', linestyle='-', color='b')\n",
    "plt.title('Cross-Validated RMSE Scores for NMF')\n",
    "plt.xlabel('Fold')\n",
    "plt.ylabel('RMSE')\n",
    "plt.xticks(range(1, 6))\n",
    "plt.grid(True)\n",
    "plt.show()\n"
   ]
  },
  {
   "cell_type": "markdown",
   "metadata": {
    "id": "cw42H90K8qPG"
   },
   "source": [
    "- The cross-validation results indicate the average RMSE and MAE values obtained across all folds, which are 1.5308 and 1.0460, respectively.\n",
    "\n",
    "The NMF algorithm has an average RMSE of approximately 1.5308 and an average MAE of approximately 1.0460 across the 5 folds. The model takes an average of 1.48 seconds to fit and 0.03 seconds to test on each fold."
   ]
  },
  {
   "cell_type": "markdown",
   "metadata": {
    "id": "yZIhjySO71RA"
   },
   "source": [
    "  Below we give recipe recommendation  for user_ id `13695` based on ratings"
   ]
  },
  {
   "cell_type": "code",
   "execution_count": 48,
   "metadata": {
    "id": "QGSxnNyq4KN8"
   },
   "outputs": [],
   "source": [
    "# getting a list of all recipe ids\n",
    "np.random.seed(42)\n",
    "all_recipe_ids=np.unique(df['recipe_code'])\n",
    "\n",
    "# predicted ratings for all recipe in your dataset for use Id 3.\n",
    "user_id = 13695\n",
    "\n",
    "# Create a list to store predicted ratings\n",
    "predicted_ratings = []\n",
    "for recipe_code in all_recipe_ids:\n",
    " predicted_rating = nmf.predict(user_id, recipe_code).est\n",
    " predicted_ratings.append((recipe_code, predicted_rating))\n",
    "\n",
    "#sorting predicted_ratings in descending order\n",
    "predicted_ratings.sort(key=lambda x:x[1], reverse=True)"
   ]
  },
  {
   "cell_type": "code",
   "execution_count": 49,
   "metadata": {
    "colab": {
     "base_uri": "https://localhost:8080/"
    },
    "id": "62Tyv8_t56wF",
    "outputId": "a04b27bf-6402-436e-9730-59afb114c5b9"
   },
   "outputs": [
    {
     "data": {
      "text/plain": [
       "[(26937, 4.903448705968933),\n",
       " (14299, 4.875007441359613),\n",
       " (39581, 4.8484307874161505),\n",
       " (386, 4.774499835660384),\n",
       " (18345, 4.723406232998248)]"
      ]
     },
     "execution_count": 49,
     "metadata": {},
     "output_type": "execute_result"
    }
   ],
   "source": [
    "# getting the top 5 recommendations\n",
    "top_5_recommendations=predicted_ratings[:5]\n",
    "top_5_recommendations"
   ]
  },
  {
   "cell_type": "code",
   "execution_count": 50,
   "metadata": {
    "colab": {
     "base_uri": "https://localhost:8080/"
    },
    "id": "RoFqYf6RTO7b",
    "outputId": "b0b064d7-4c55-4806-a98b-2e2a974c2d01"
   },
   "outputs": [
    {
     "name": "stdout",
     "output_type": "stream",
     "text": [
      "Recipe Name: Pumpkin Spice Cupcakes with Cream Cheese Frosting, Predicted Rating: 4.903448705968933\n",
      "Recipe Name: Pumpkin Spice Cupcakes with Cream Cheese Frosting, Predicted Rating: 4.875007441359613\n",
      "Recipe Name: Pumpkin Spice Cupcakes with Cream Cheese Frosting, Predicted Rating: 4.8484307874161505\n",
      "Recipe Name: Pumpkin Spice Cupcakes with Cream Cheese Frosting, Predicted Rating: 4.774499835660384\n",
      "Recipe Name: Pumpkin Spice Cupcakes with Cream Cheese Frosting, Predicted Rating: 4.723406232998248\n"
     ]
    }
   ],
   "source": [
    "# top 5 recommended recipes to the user\n",
    "for recipe_code, predicted_rating in top_5_recommendations:\n",
    " recipe_title = df[df['recipe_code'] == recipe_code]['recipe_name'].values[0]\n",
    " print(f\"Recipe Name: {recipe_name}, Predicted Rating: {predicted_rating}\")\n"
   ]
  },
  {
   "cell_type": "markdown",
   "metadata": {
    "id": "j5wQsv2BgCPT"
   },
   "source": [
    "## Deep Learning Matrix Facrorization\n",
    "\n",
    "Matrix Factorization with Embedding Layer\n",
    "\n",
    "Matrix factorization with embeddings is a popular approach in recommendation systems to model user-item interactions. It aims to\n",
    "decompose the user-item interaction matrix into lower-dimensional embeddings for users and items (recipe in this case). These\n",
    "embeddings capture latent features that represent users' preferences and items' characteristics. By learning these embeddings, the\n",
    "model can predict how users would rate unseen items, enabling personalized recommendations."
   ]
  },
  {
   "cell_type": "markdown",
   "metadata": {
    "id": "QD_6JTTou5zn"
   },
   "source": [
    "splitting the data into training and validation sets for recomendation model"
   ]
  },
  {
   "cell_type": "code",
   "execution_count": 51,
   "metadata": {
    "id": "ZV5TLgz6aVLu"
   },
   "outputs": [],
   "source": [
    "from sklearn.model_selection import train_test_split\n",
    "# 'rating'becomes the target variable 'y'\n",
    "y = df['ratings']\n",
    "# 'userId' and 'recipe_code' are feature data 'X'\n",
    "X = df[['user_id', 'recipe_code']]\n",
    "# Split the data into training and validation sets\n",
    "X_train, X_val, y_train, y_val = train_test_split(X, y, test_size=0.2, random_state=42)\n"
   ]
  },
  {
   "cell_type": "markdown",
   "metadata": {
    "id": "myX8BrFygrM-"
   },
   "source": [
    "calculating number of unique users and recipe to determine the dimensions of the embendding layers"
   ]
  },
  {
   "cell_type": "code",
   "execution_count": 52,
   "metadata": {
    "id": "-dFYwAELasj_"
   },
   "outputs": [],
   "source": [
    "# the maximum user ID in the dataset and add 1 to account for 0-based indexing\n",
    "num_users = df['user_id'].max() + 1\n",
    "# the maximum movie ID in the dataset and add 1 to account for 0-based indexing\n",
    "num_recipe = df['recipe_code'].max() + 1"
   ]
  },
  {
   "cell_type": "markdown",
   "metadata": {
    "id": "md1GZRGqvxgz"
   },
   "source": [
    " Neural Collaborative Filtering Model"
   ]
  },
  {
   "cell_type": "code",
   "execution_count": 53,
   "metadata": {
    "id": "hVi-3QF0bETW"
   },
   "outputs": [],
   "source": [
    "from keras.layers import Input, Embedding, Flatten,Concatenate, Dense\n",
    "from keras.models import Model\n",
    "import tensorflow as tf\n",
    "tf.random.set_seed(42)\n",
    "\n",
    "# Define embedding dimensions\n",
    "embedding_dim = 40\n",
    "# Define input layers\n",
    "user_input = Input(shape=(1,), name='User_Input')\n",
    "recipe_input = Input(shape=(1,), name='Recipe_Input')\n",
    "\n",
    "# Define embedding layers\n",
    "user_embedding = Embedding(input_dim=num_users, output_dim=embedding_dim, name='User_Embedding')(user_input)\n",
    "recipe_embedding = Embedding(input_dim=num_recipe, output_dim=embedding_dim, name='Recipe_Embedding')(recipe_input)\n",
    "\n",
    "# Flatten the embeddings\n",
    "user_flat = Flatten(name='User_Vector')(user_embedding)\n",
    "recipe_flat = Flatten(name='Recipe_Vector')(recipe_embedding)\n",
    "\n",
    "# Concatenate user and recipe embeddings\n",
    "concatenated = Concatenate(name='Concatenate')([user_flat, recipe_flat])\n",
    "# Define your model's architecture\n",
    "dense_layer = Dense(100, activation='relu', name='dense')(concatenated)\n",
    "output_layer = Dense(1, activation='linear', name='Output')(dense_layer)\n",
    "# Create the model\n",
    "model = Model(inputs=[user_input, recipe_input], outputs=output_layer)"
   ]
  },
  {
   "cell_type": "code",
   "execution_count": 54,
   "metadata": {
    "colab": {
     "base_uri": "https://localhost:8080/"
    },
    "id": "tfn2brQUeUkr",
    "outputId": "4e920cb0-0485-4389-b14f-80f6505cd9f2"
   },
   "outputs": [
    {
     "data": {
      "text/html": [
       "<pre style=\"white-space:pre;overflow-x:auto;line-height:normal;font-family:Menlo,'DejaVu Sans Mono',consolas,'Courier New',monospace\"><span style=\"font-weight: bold\">Model: \"functional_1\"</span>\n",
       "</pre>\n"
      ],
      "text/plain": [
       "\u001b[1mModel: \"functional_1\"\u001b[0m\n"
      ]
     },
     "metadata": {},
     "output_type": "display_data"
    },
    {
     "data": {
      "text/html": [
       "<pre style=\"white-space:pre;overflow-x:auto;line-height:normal;font-family:Menlo,'DejaVu Sans Mono',consolas,'Courier New',monospace\">┏━━━━━━━━━━━━━━━━━━━━━━━━━━━━━━━┳━━━━━━━━━━━━━━━━━━━━━━━━━━━┳━━━━━━━━━━━━━━━━━┳━━━━━━━━━━━━━━━━━━━━━━━━━━━━┓\n",
       "┃<span style=\"font-weight: bold\"> Layer (type)                  </span>┃<span style=\"font-weight: bold\"> Output Shape              </span>┃<span style=\"font-weight: bold\">         Param # </span>┃<span style=\"font-weight: bold\"> Connected to               </span>┃\n",
       "┡━━━━━━━━━━━━━━━━━━━━━━━━━━━━━━━╇━━━━━━━━━━━━━━━━━━━━━━━━━━━╇━━━━━━━━━━━━━━━━━╇━━━━━━━━━━━━━━━━━━━━━━━━━━━━┩\n",
       "│ User_Input (<span style=\"color: #0087ff; text-decoration-color: #0087ff\">InputLayer</span>)       │ (<span style=\"color: #00d7ff; text-decoration-color: #00d7ff\">None</span>, <span style=\"color: #00af00; text-decoration-color: #00af00\">1</span>)                 │               <span style=\"color: #00af00; text-decoration-color: #00af00\">0</span> │ -                          │\n",
       "├───────────────────────────────┼───────────────────────────┼─────────────────┼────────────────────────────┤\n",
       "│ Recipe_Input (<span style=\"color: #0087ff; text-decoration-color: #0087ff\">InputLayer</span>)     │ (<span style=\"color: #00d7ff; text-decoration-color: #00d7ff\">None</span>, <span style=\"color: #00af00; text-decoration-color: #00af00\">1</span>)                 │               <span style=\"color: #00af00; text-decoration-color: #00af00\">0</span> │ -                          │\n",
       "├───────────────────────────────┼───────────────────────────┼─────────────────┼────────────────────────────┤\n",
       "│ User_Embedding (<span style=\"color: #0087ff; text-decoration-color: #0087ff\">Embedding</span>)    │ (<span style=\"color: #00d7ff; text-decoration-color: #00d7ff\">None</span>, <span style=\"color: #00af00; text-decoration-color: #00af00\">1</span>, <span style=\"color: #00af00; text-decoration-color: #00af00\">40</span>)             │         <span style=\"color: #00af00; text-decoration-color: #00af00\">552,520</span> │ User_Input[<span style=\"color: #00af00; text-decoration-color: #00af00\">0</span>][<span style=\"color: #00af00; text-decoration-color: #00af00\">0</span>]           │\n",
       "├───────────────────────────────┼───────────────────────────┼─────────────────┼────────────────────────────┤\n",
       "│ Recipe_Embedding (<span style=\"color: #0087ff; text-decoration-color: #0087ff\">Embedding</span>)  │ (<span style=\"color: #00d7ff; text-decoration-color: #00d7ff\">None</span>, <span style=\"color: #00af00; text-decoration-color: #00af00\">1</span>, <span style=\"color: #00af00; text-decoration-color: #00af00\">40</span>)             │       <span style=\"color: #00af00; text-decoration-color: #00af00\">7,671,040</span> │ Recipe_Input[<span style=\"color: #00af00; text-decoration-color: #00af00\">0</span>][<span style=\"color: #00af00; text-decoration-color: #00af00\">0</span>]         │\n",
       "├───────────────────────────────┼───────────────────────────┼─────────────────┼────────────────────────────┤\n",
       "│ User_Vector (<span style=\"color: #0087ff; text-decoration-color: #0087ff\">Flatten</span>)         │ (<span style=\"color: #00d7ff; text-decoration-color: #00d7ff\">None</span>, <span style=\"color: #00af00; text-decoration-color: #00af00\">40</span>)                │               <span style=\"color: #00af00; text-decoration-color: #00af00\">0</span> │ User_Embedding[<span style=\"color: #00af00; text-decoration-color: #00af00\">0</span>][<span style=\"color: #00af00; text-decoration-color: #00af00\">0</span>]       │\n",
       "├───────────────────────────────┼───────────────────────────┼─────────────────┼────────────────────────────┤\n",
       "│ Recipe_Vector (<span style=\"color: #0087ff; text-decoration-color: #0087ff\">Flatten</span>)       │ (<span style=\"color: #00d7ff; text-decoration-color: #00d7ff\">None</span>, <span style=\"color: #00af00; text-decoration-color: #00af00\">40</span>)                │               <span style=\"color: #00af00; text-decoration-color: #00af00\">0</span> │ Recipe_Embedding[<span style=\"color: #00af00; text-decoration-color: #00af00\">0</span>][<span style=\"color: #00af00; text-decoration-color: #00af00\">0</span>]     │\n",
       "├───────────────────────────────┼───────────────────────────┼─────────────────┼────────────────────────────┤\n",
       "│ Concatenate (<span style=\"color: #0087ff; text-decoration-color: #0087ff\">Concatenate</span>)     │ (<span style=\"color: #00d7ff; text-decoration-color: #00d7ff\">None</span>, <span style=\"color: #00af00; text-decoration-color: #00af00\">80</span>)                │               <span style=\"color: #00af00; text-decoration-color: #00af00\">0</span> │ User_Vector[<span style=\"color: #00af00; text-decoration-color: #00af00\">0</span>][<span style=\"color: #00af00; text-decoration-color: #00af00\">0</span>],         │\n",
       "│                               │                           │                 │ Recipe_Vector[<span style=\"color: #00af00; text-decoration-color: #00af00\">0</span>][<span style=\"color: #00af00; text-decoration-color: #00af00\">0</span>]        │\n",
       "├───────────────────────────────┼───────────────────────────┼─────────────────┼────────────────────────────┤\n",
       "│ dense (<span style=\"color: #0087ff; text-decoration-color: #0087ff\">Dense</span>)                 │ (<span style=\"color: #00d7ff; text-decoration-color: #00d7ff\">None</span>, <span style=\"color: #00af00; text-decoration-color: #00af00\">100</span>)               │           <span style=\"color: #00af00; text-decoration-color: #00af00\">8,100</span> │ Concatenate[<span style=\"color: #00af00; text-decoration-color: #00af00\">0</span>][<span style=\"color: #00af00; text-decoration-color: #00af00\">0</span>]          │\n",
       "├───────────────────────────────┼───────────────────────────┼─────────────────┼────────────────────────────┤\n",
       "│ Output (<span style=\"color: #0087ff; text-decoration-color: #0087ff\">Dense</span>)                │ (<span style=\"color: #00d7ff; text-decoration-color: #00d7ff\">None</span>, <span style=\"color: #00af00; text-decoration-color: #00af00\">1</span>)                 │             <span style=\"color: #00af00; text-decoration-color: #00af00\">101</span> │ dense[<span style=\"color: #00af00; text-decoration-color: #00af00\">0</span>][<span style=\"color: #00af00; text-decoration-color: #00af00\">0</span>]                │\n",
       "└───────────────────────────────┴───────────────────────────┴─────────────────┴────────────────────────────┘\n",
       "</pre>\n"
      ],
      "text/plain": [
       "┏━━━━━━━━━━━━━━━━━━━━━━━━━━━━━━━┳━━━━━━━━━━━━━━━━━━━━━━━━━━━┳━━━━━━━━━━━━━━━━━┳━━━━━━━━━━━━━━━━━━━━━━━━━━━━┓\n",
       "┃\u001b[1m \u001b[0m\u001b[1mLayer (type)                 \u001b[0m\u001b[1m \u001b[0m┃\u001b[1m \u001b[0m\u001b[1mOutput Shape             \u001b[0m\u001b[1m \u001b[0m┃\u001b[1m \u001b[0m\u001b[1m        Param #\u001b[0m\u001b[1m \u001b[0m┃\u001b[1m \u001b[0m\u001b[1mConnected to              \u001b[0m\u001b[1m \u001b[0m┃\n",
       "┡━━━━━━━━━━━━━━━━━━━━━━━━━━━━━━━╇━━━━━━━━━━━━━━━━━━━━━━━━━━━╇━━━━━━━━━━━━━━━━━╇━━━━━━━━━━━━━━━━━━━━━━━━━━━━┩\n",
       "│ User_Input (\u001b[38;5;33mInputLayer\u001b[0m)       │ (\u001b[38;5;45mNone\u001b[0m, \u001b[38;5;34m1\u001b[0m)                 │               \u001b[38;5;34m0\u001b[0m │ -                          │\n",
       "├───────────────────────────────┼───────────────────────────┼─────────────────┼────────────────────────────┤\n",
       "│ Recipe_Input (\u001b[38;5;33mInputLayer\u001b[0m)     │ (\u001b[38;5;45mNone\u001b[0m, \u001b[38;5;34m1\u001b[0m)                 │               \u001b[38;5;34m0\u001b[0m │ -                          │\n",
       "├───────────────────────────────┼───────────────────────────┼─────────────────┼────────────────────────────┤\n",
       "│ User_Embedding (\u001b[38;5;33mEmbedding\u001b[0m)    │ (\u001b[38;5;45mNone\u001b[0m, \u001b[38;5;34m1\u001b[0m, \u001b[38;5;34m40\u001b[0m)             │         \u001b[38;5;34m552,520\u001b[0m │ User_Input[\u001b[38;5;34m0\u001b[0m][\u001b[38;5;34m0\u001b[0m]           │\n",
       "├───────────────────────────────┼───────────────────────────┼─────────────────┼────────────────────────────┤\n",
       "│ Recipe_Embedding (\u001b[38;5;33mEmbedding\u001b[0m)  │ (\u001b[38;5;45mNone\u001b[0m, \u001b[38;5;34m1\u001b[0m, \u001b[38;5;34m40\u001b[0m)             │       \u001b[38;5;34m7,671,040\u001b[0m │ Recipe_Input[\u001b[38;5;34m0\u001b[0m][\u001b[38;5;34m0\u001b[0m]         │\n",
       "├───────────────────────────────┼───────────────────────────┼─────────────────┼────────────────────────────┤\n",
       "│ User_Vector (\u001b[38;5;33mFlatten\u001b[0m)         │ (\u001b[38;5;45mNone\u001b[0m, \u001b[38;5;34m40\u001b[0m)                │               \u001b[38;5;34m0\u001b[0m │ User_Embedding[\u001b[38;5;34m0\u001b[0m][\u001b[38;5;34m0\u001b[0m]       │\n",
       "├───────────────────────────────┼───────────────────────────┼─────────────────┼────────────────────────────┤\n",
       "│ Recipe_Vector (\u001b[38;5;33mFlatten\u001b[0m)       │ (\u001b[38;5;45mNone\u001b[0m, \u001b[38;5;34m40\u001b[0m)                │               \u001b[38;5;34m0\u001b[0m │ Recipe_Embedding[\u001b[38;5;34m0\u001b[0m][\u001b[38;5;34m0\u001b[0m]     │\n",
       "├───────────────────────────────┼───────────────────────────┼─────────────────┼────────────────────────────┤\n",
       "│ Concatenate (\u001b[38;5;33mConcatenate\u001b[0m)     │ (\u001b[38;5;45mNone\u001b[0m, \u001b[38;5;34m80\u001b[0m)                │               \u001b[38;5;34m0\u001b[0m │ User_Vector[\u001b[38;5;34m0\u001b[0m][\u001b[38;5;34m0\u001b[0m],         │\n",
       "│                               │                           │                 │ Recipe_Vector[\u001b[38;5;34m0\u001b[0m][\u001b[38;5;34m0\u001b[0m]        │\n",
       "├───────────────────────────────┼───────────────────────────┼─────────────────┼────────────────────────────┤\n",
       "│ dense (\u001b[38;5;33mDense\u001b[0m)                 │ (\u001b[38;5;45mNone\u001b[0m, \u001b[38;5;34m100\u001b[0m)               │           \u001b[38;5;34m8,100\u001b[0m │ Concatenate[\u001b[38;5;34m0\u001b[0m][\u001b[38;5;34m0\u001b[0m]          │\n",
       "├───────────────────────────────┼───────────────────────────┼─────────────────┼────────────────────────────┤\n",
       "│ Output (\u001b[38;5;33mDense\u001b[0m)                │ (\u001b[38;5;45mNone\u001b[0m, \u001b[38;5;34m1\u001b[0m)                 │             \u001b[38;5;34m101\u001b[0m │ dense[\u001b[38;5;34m0\u001b[0m][\u001b[38;5;34m0\u001b[0m]                │\n",
       "└───────────────────────────────┴───────────────────────────┴─────────────────┴────────────────────────────┘\n"
      ]
     },
     "metadata": {},
     "output_type": "display_data"
    },
    {
     "data": {
      "text/html": [
       "<pre style=\"white-space:pre;overflow-x:auto;line-height:normal;font-family:Menlo,'DejaVu Sans Mono',consolas,'Courier New',monospace\"><span style=\"font-weight: bold\"> Total params: </span><span style=\"color: #00af00; text-decoration-color: #00af00\">8,231,761</span> (31.40 MB)\n",
       "</pre>\n"
      ],
      "text/plain": [
       "\u001b[1m Total params: \u001b[0m\u001b[38;5;34m8,231,761\u001b[0m (31.40 MB)\n"
      ]
     },
     "metadata": {},
     "output_type": "display_data"
    },
    {
     "data": {
      "text/html": [
       "<pre style=\"white-space:pre;overflow-x:auto;line-height:normal;font-family:Menlo,'DejaVu Sans Mono',consolas,'Courier New',monospace\"><span style=\"font-weight: bold\"> Trainable params: </span><span style=\"color: #00af00; text-decoration-color: #00af00\">8,231,761</span> (31.40 MB)\n",
       "</pre>\n"
      ],
      "text/plain": [
       "\u001b[1m Trainable params: \u001b[0m\u001b[38;5;34m8,231,761\u001b[0m (31.40 MB)\n"
      ]
     },
     "metadata": {},
     "output_type": "display_data"
    },
    {
     "data": {
      "text/html": [
       "<pre style=\"white-space:pre;overflow-x:auto;line-height:normal;font-family:Menlo,'DejaVu Sans Mono',consolas,'Courier New',monospace\"><span style=\"font-weight: bold\"> Non-trainable params: </span><span style=\"color: #00af00; text-decoration-color: #00af00\">0</span> (0.00 B)\n",
       "</pre>\n"
      ],
      "text/plain": [
       "\u001b[1m Non-trainable params: \u001b[0m\u001b[38;5;34m0\u001b[0m (0.00 B)\n"
      ]
     },
     "metadata": {},
     "output_type": "display_data"
    }
   ],
   "source": [
    "model.summary()"
   ]
  },
  {
   "cell_type": "markdown",
   "metadata": {
    "id": "Eo7BGJDupVve"
   },
   "source": [
    "`Observation`\n",
    "\n",
    "This model takes user and recipe IDs, converts them into embeddings, concatenates these embeddings, passes them through dense layers, and finally predicts a rating. The model is relatively large due to the high number of parameters, especially in the embedding layers.\n",
    "\n",
    "\n",
    "\n",
    "\n",
    "\n",
    "\n"
   ]
  },
  {
   "cell_type": "code",
   "execution_count": 57,
   "metadata": {
    "id": "h7c55isVegDO"
   },
   "outputs": [],
   "source": [
    "#TensorFlow Model Compilation with Custom MAE Metric\n",
    "import tensorflow as tf\n",
    "# Custom mse metric function\n",
    "def rmse(y_true, y_pred):\n",
    "    y_true = tf.cast(y_true, tf.float32)  \n",
    "    return tf.reduce_mean(tf.abs(y_pred - y_true))\n",
    "# Compile the model\n",
    "model.compile(optimizer=tf.keras.optimizers.Adam(learning_rate=0.001), loss='mean_squared_error', metrics=['mean_absolute_error', rmse])\n"
   ]
  },
  {
   "cell_type": "code",
   "execution_count": 58,
   "metadata": {
    "colab": {
     "base_uri": "https://localhost:8080/"
    },
    "id": "AZ_gEr2gfLo4",
    "outputId": "d1a75f9c-df5e-4bf9-e36e-b0c73008dc4f"
   },
   "outputs": [
    {
     "name": "stdout",
     "output_type": "stream",
     "text": [
      "Epoch 1/20\n",
      "\u001b[1m114/114\u001b[0m \u001b[32m━━━━━━━━━━━━━━━━━━━━\u001b[0m\u001b[37m\u001b[0m \u001b[1m8s\u001b[0m 48ms/step - loss: 15.3700 - mean_absolute_error: 3.5668 - rmse: 3.5668 - val_loss: 2.2426 - val_mean_absolute_error: 1.0524 - val_rmse: 1.0505\n",
      "Epoch 2/20\n",
      "\u001b[1m114/114\u001b[0m \u001b[32m━━━━━━━━━━━━━━━━━━━━\u001b[0m\u001b[37m\u001b[0m \u001b[1m5s\u001b[0m 45ms/step - loss: 2.1306 - mean_absolute_error: 1.0061 - rmse: 1.0061 - val_loss: 2.2285 - val_mean_absolute_error: 1.1262 - val_rmse: 1.1234\n",
      "Epoch 3/20\n",
      "\u001b[1m114/114\u001b[0m \u001b[32m━━━━━━━━━━━━━━━━━━━━\u001b[0m\u001b[37m\u001b[0m \u001b[1m5s\u001b[0m 47ms/step - loss: 1.1580 - mean_absolute_error: 0.7224 - rmse: 0.7224 - val_loss: 2.7659 - val_mean_absolute_error: 1.3895 - val_rmse: 1.3865\n",
      "Epoch 4/20\n",
      "\u001b[1m114/114\u001b[0m \u001b[32m━━━━━━━━━━━━━━━━━━━━\u001b[0m\u001b[37m\u001b[0m \u001b[1m6s\u001b[0m 52ms/step - loss: 0.4962 - mean_absolute_error: 0.4725 - rmse: 0.4725 - val_loss: 2.6230 - val_mean_absolute_error: 1.3265 - val_rmse: 1.3254\n",
      "Epoch 5/20\n",
      "\u001b[1m114/114\u001b[0m \u001b[32m━━━━━━━━━━━━━━━━━━━━\u001b[0m\u001b[37m\u001b[0m \u001b[1m6s\u001b[0m 50ms/step - loss: 0.4361 - mean_absolute_error: 0.4718 - rmse: 0.4718 - val_loss: 2.6674 - val_mean_absolute_error: 1.3430 - val_rmse: 1.3408\n",
      "Epoch 6/20\n",
      "\u001b[1m114/114\u001b[0m \u001b[32m━━━━━━━━━━━━━━━━━━━━\u001b[0m\u001b[37m\u001b[0m \u001b[1m6s\u001b[0m 51ms/step - loss: 0.3877 - mean_absolute_error: 0.4329 - rmse: 0.4329 - val_loss: 2.7486 - val_mean_absolute_error: 1.3688 - val_rmse: 1.3675\n",
      "Epoch 7/20\n",
      "\u001b[1m114/114\u001b[0m \u001b[32m━━━━━━━━━━━━━━━━━━━━\u001b[0m\u001b[37m\u001b[0m \u001b[1m6s\u001b[0m 49ms/step - loss: 0.3251 - mean_absolute_error: 0.3586 - rmse: 0.3586 - val_loss: 2.7299 - val_mean_absolute_error: 1.3647 - val_rmse: 1.3633\n",
      "Epoch 8/20\n",
      "\u001b[1m114/114\u001b[0m \u001b[32m━━━━━━━━━━━━━━━━━━━━\u001b[0m\u001b[37m\u001b[0m \u001b[1m6s\u001b[0m 49ms/step - loss: 0.3047 - mean_absolute_error: 0.3303 - rmse: 0.3303 - val_loss: 2.6896 - val_mean_absolute_error: 1.3479 - val_rmse: 1.3467\n",
      "Epoch 9/20\n",
      "\u001b[1m114/114\u001b[0m \u001b[32m━━━━━━━━━━━━━━━━━━━━\u001b[0m\u001b[37m\u001b[0m \u001b[1m6s\u001b[0m 49ms/step - loss: 0.2996 - mean_absolute_error: 0.3198 - rmse: 0.3198 - val_loss: 2.5013 - val_mean_absolute_error: 1.2559 - val_rmse: 1.2551\n",
      "Epoch 10/20\n",
      "\u001b[1m114/114\u001b[0m \u001b[32m━━━━━━━━━━━━━━━━━━━━\u001b[0m\u001b[37m\u001b[0m \u001b[1m6s\u001b[0m 53ms/step - loss: 0.3101 - mean_absolute_error: 0.3337 - rmse: 0.3337 - val_loss: 2.4180 - val_mean_absolute_error: 1.2106 - val_rmse: 1.2099\n",
      "Epoch 11/20\n",
      "\u001b[1m114/114\u001b[0m \u001b[32m━━━━━━━━━━━━━━━━━━━━\u001b[0m\u001b[37m\u001b[0m \u001b[1m6s\u001b[0m 52ms/step - loss: 0.3649 - mean_absolute_error: 0.4075 - rmse: 0.4075 - val_loss: 3.1349 - val_mean_absolute_error: 1.5631 - val_rmse: 1.5627\n",
      "Epoch 12/20\n",
      "\u001b[1m114/114\u001b[0m \u001b[32m━━━━━━━━━━━━━━━━━━━━\u001b[0m\u001b[37m\u001b[0m \u001b[1m6s\u001b[0m 52ms/step - loss: 0.5042 - mean_absolute_error: 0.5364 - rmse: 0.5364 - val_loss: 2.9000 - val_mean_absolute_error: 1.4772 - val_rmse: 1.4766\n",
      "Epoch 13/20\n",
      "\u001b[1m114/114\u001b[0m \u001b[32m━━━━━━━━━━━━━━━━━━━━\u001b[0m\u001b[37m\u001b[0m \u001b[1m6s\u001b[0m 50ms/step - loss: 0.4969 - mean_absolute_error: 0.5358 - rmse: 0.5359 - val_loss: 2.3762 - val_mean_absolute_error: 1.1916 - val_rmse: 1.1903\n",
      "Epoch 14/20\n",
      "\u001b[1m114/114\u001b[0m \u001b[32m━━━━━━━━━━━━━━━━━━━━\u001b[0m\u001b[37m\u001b[0m \u001b[1m6s\u001b[0m 51ms/step - loss: 0.4135 - mean_absolute_error: 0.4683 - rmse: 0.4683 - val_loss: 2.3386 - val_mean_absolute_error: 1.1442 - val_rmse: 1.1427\n",
      "Epoch 15/20\n",
      "\u001b[1m114/114\u001b[0m \u001b[32m━━━━━━━━━━━━━━━━━━━━\u001b[0m\u001b[37m\u001b[0m \u001b[1m6s\u001b[0m 50ms/step - loss: 0.3516 - mean_absolute_error: 0.4150 - rmse: 0.4150 - val_loss: 2.3646 - val_mean_absolute_error: 1.1636 - val_rmse: 1.1623\n",
      "Epoch 16/20\n",
      "\u001b[1m114/114\u001b[0m \u001b[32m━━━━━━━━━━━━━━━━━━━━\u001b[0m\u001b[37m\u001b[0m \u001b[1m6s\u001b[0m 50ms/step - loss: 0.3042 - mean_absolute_error: 0.3521 - rmse: 0.3521 - val_loss: 2.5127 - val_mean_absolute_error: 1.2690 - val_rmse: 1.2678\n",
      "Epoch 17/20\n",
      "\u001b[1m114/114\u001b[0m \u001b[32m━━━━━━━━━━━━━━━━━━━━\u001b[0m\u001b[37m\u001b[0m \u001b[1m6s\u001b[0m 52ms/step - loss: 0.2887 - mean_absolute_error: 0.3377 - rmse: 0.3377 - val_loss: 2.6520 - val_mean_absolute_error: 1.3590 - val_rmse: 1.3581\n",
      "Epoch 18/20\n",
      "\u001b[1m114/114\u001b[0m \u001b[32m━━━━━━━━━━━━━━━━━━━━\u001b[0m\u001b[37m\u001b[0m \u001b[1m6s\u001b[0m 54ms/step - loss: 0.2928 - mean_absolute_error: 0.3486 - rmse: 0.3486 - val_loss: 2.5886 - val_mean_absolute_error: 1.3332 - val_rmse: 1.3323\n",
      "Epoch 19/20\n",
      "\u001b[1m114/114\u001b[0m \u001b[32m━━━━━━━━━━━━━━━━━━━━\u001b[0m\u001b[37m\u001b[0m \u001b[1m6s\u001b[0m 52ms/step - loss: 0.2877 - mean_absolute_error: 0.3373 - rmse: 0.3373 - val_loss: 2.3581 - val_mean_absolute_error: 1.1931 - val_rmse: 1.1918\n",
      "Epoch 20/20\n",
      "\u001b[1m114/114\u001b[0m \u001b[32m━━━━━━━━━━━━━━━━━━━━\u001b[0m\u001b[37m\u001b[0m \u001b[1m6s\u001b[0m 50ms/step - loss: 0.2746 - mean_absolute_error: 0.3144 - rmse: 0.3144 - val_loss: 2.2332 - val_mean_absolute_error: 1.0703 - val_rmse: 1.0687\n"
     ]
    }
   ],
   "source": [
    "# Training the Model on User and Recipe_code with Ratings\n",
    "history = model.fit(\n",
    " [X_train['user_id'].values, X_train['recipe_code'].values], # Input data for User and recipe_code\n",
    " y_train , # Target values (ratings)\n",
    " epochs=20, # Number of training epochs\n",
    " batch_size=128, # Batch size for training\n",
    " validation_data=([X_val['user_id'].values, X_val['recipe_code'].values], y_val) # Validation data\n",
    ")\n"
   ]
  },
  {
   "cell_type": "code",
   "execution_count": 59,
   "metadata": {
    "colab": {
     "base_uri": "https://localhost:8080/",
     "height": 410
    },
    "id": "bxVz_n7GhH28",
    "outputId": "070700e8-4eff-4dad-b2b8-f86d8e3c5a7a"
   },
   "outputs": [
    {
     "data": {
      "image/png": "[encoded data removed]",
      "text/plain": [
       "<Figure size 800x400 with 1 Axes>"
      ]
     },
     "metadata": {},
     "output_type": "display_data"
    }
   ],
   "source": [
    "# training and test loss histories\n",
    "training_loss = history.history['loss']\n",
    "test_loss = history.history['val_loss']\n",
    "# count of the number of epochs\n",
    "epoch_count = range(1, len(training_loss) + 1)\n",
    "# Visualize loss history\n",
    "plt.figure(figsize=(8, 4))\n",
    "plt.plot(epoch_count, training_loss, 'r--', label='Training Loss')\n",
    "plt.plot(epoch_count, test_loss, 'b-', label='Test Loss')\n",
    "plt.legend()\n",
    "plt.xlabel('Epoch')\n",
    "plt.ylabel('Loss')\n",
    "plt.title('Training and Test Loss History')\n",
    "plt.grid(True)\n",
    "plt.show()\n"
   ]
  },
  {
   "cell_type": "markdown",
   "metadata": {
    "id": "SmywHhdLYgwD"
   },
   "source": [
    "The graph suggests that there's no simple relationship between a recipe's complexity and its average rating in this dataset. Complex recipes can be highly rated, and simple recipes can also be well-received"
   ]
  },
  {
   "cell_type": "markdown",
   "metadata": {
    "id": "UuiF3l3DXEJk"
   },
   "source": [
    "Generating Top Recipe Recommendations for a User `13695 `"
   ]
  },
  {
   "cell_type": "code",
   "execution_count": 60,
   "metadata": {
    "colab": {
     "base_uri": "https://localhost:8080/"
    },
    "id": "7zBZcUknRxnS",
    "outputId": "b88b08bb-dd66-42b7-ae79-0262881b50ca"
   },
   "outputs": [
    {
     "name": "stdout",
     "output_type": "stream",
     "text": [
      "\u001b[1m1/1\u001b[0m \u001b[32m━━━━━━━━━━━━━━━━━━━━\u001b[0m\u001b[37m\u001b[0m \u001b[1m0s\u001b[0m 249ms/step\n",
      "\u001b[1m1/1\u001b[0m \u001b[32m━━━━━━━━━━━━━━━━━━━━\u001b[0m\u001b[37m\u001b[0m \u001b[1m0s\u001b[0m 54ms/step\n",
      "\u001b[1m1/1\u001b[0m \u001b[32m━━━━━━━━━━━━━━━━━━━━\u001b[0m\u001b[37m\u001b[0m \u001b[1m0s\u001b[0m 50ms/step\n",
      "\u001b[1m1/1\u001b[0m \u001b[32m━━━━━━━━━━━━━━━━━━━━\u001b[0m\u001b[37m\u001b[0m \u001b[1m0s\u001b[0m 62ms/step\n",
      "\u001b[1m1/1\u001b[0m \u001b[32m━━━━━━━━━━━━━━━━━━━━\u001b[0m\u001b[37m\u001b[0m \u001b[1m0s\u001b[0m 52ms/step\n",
      "\u001b[1m1/1\u001b[0m \u001b[32m━━━━━━━━━━━━━━━━━━━━\u001b[0m\u001b[37m\u001b[0m \u001b[1m0s\u001b[0m 59ms/step\n",
      "\u001b[1m1/1\u001b[0m \u001b[32m━━━━━━━━━━━━━━━━━━━━\u001b[0m\u001b[37m\u001b[0m \u001b[1m0s\u001b[0m 65ms/step\n",
      "\u001b[1m1/1\u001b[0m \u001b[32m━━━━━━━━━━━━━━━━━━━━\u001b[0m\u001b[37m\u001b[0m \u001b[1m0s\u001b[0m 53ms/step\n",
      "\u001b[1m1/1\u001b[0m \u001b[32m━━━━━━━━━━━━━━━━━━━━\u001b[0m\u001b[37m\u001b[0m \u001b[1m0s\u001b[0m 47ms/step\n",
      "\u001b[1m1/1\u001b[0m \u001b[32m━━━━━━━━━━━━━━━━━━━━\u001b[0m\u001b[37m\u001b[0m \u001b[1m0s\u001b[0m 55ms/step\n",
      "\u001b[1m1/1\u001b[0m \u001b[32m━━━━━━━━━━━━━━━━━━━━\u001b[0m\u001b[37m\u001b[0m \u001b[1m0s\u001b[0m 49ms/step\n",
      "\u001b[1m1/1\u001b[0m \u001b[32m━━━━━━━━━━━━━━━━━━━━\u001b[0m\u001b[37m\u001b[0m \u001b[1m0s\u001b[0m 46ms/step\n",
      "\u001b[1m1/1\u001b[0m \u001b[32m━━━━━━━━━━━━━━━━━━━━\u001b[0m\u001b[37m\u001b[0m \u001b[1m0s\u001b[0m 46ms/step\n",
      "\u001b[1m1/1\u001b[0m \u001b[32m━━━━━━━━━━━━━━━━━━━━\u001b[0m\u001b[37m\u001b[0m \u001b[1m0s\u001b[0m 58ms/step\n",
      "\u001b[1m1/1\u001b[0m \u001b[32m━━━━━━━━━━━━━━━━━━━━\u001b[0m\u001b[37m\u001b[0m \u001b[1m0s\u001b[0m 45ms/step\n",
      "\u001b[1m1/1\u001b[0m \u001b[32m━━━━━━━━━━━━━━━━━━━━\u001b[0m\u001b[37m\u001b[0m \u001b[1m0s\u001b[0m 45ms/step\n",
      "\u001b[1m1/1\u001b[0m \u001b[32m━━━━━━━━━━━━━━━━━━━━\u001b[0m\u001b[37m\u001b[0m \u001b[1m0s\u001b[0m 48ms/step\n",
      "\u001b[1m1/1\u001b[0m \u001b[32m━━━━━━━━━━━━━━━━━━━━\u001b[0m\u001b[37m\u001b[0m \u001b[1m0s\u001b[0m 62ms/step\n",
      "\u001b[1m1/1\u001b[0m \u001b[32m━━━━━━━━━━━━━━━━━━━━\u001b[0m\u001b[37m\u001b[0m \u001b[1m0s\u001b[0m 56ms/step\n",
      "\u001b[1m1/1\u001b[0m \u001b[32m━━━━━━━━━━━━━━━━━━━━\u001b[0m\u001b[37m\u001b[0m \u001b[1m0s\u001b[0m 48ms/step\n",
      "\u001b[1m1/1\u001b[0m \u001b[32m━━━━━━━━━━━━━━━━━━━━\u001b[0m\u001b[37m\u001b[0m \u001b[1m0s\u001b[0m 52ms/step\n",
      "\u001b[1m1/1\u001b[0m \u001b[32m━━━━━━━━━━━━━━━━━━━━\u001b[0m\u001b[37m\u001b[0m \u001b[1m0s\u001b[0m 47ms/step\n",
      "\u001b[1m1/1\u001b[0m \u001b[32m━━━━━━━━━━━━━━━━━━━━\u001b[0m\u001b[37m\u001b[0m \u001b[1m0s\u001b[0m 56ms/step\n",
      "\u001b[1m1/1\u001b[0m \u001b[32m━━━━━━━━━━━━━━━━━━━━\u001b[0m\u001b[37m\u001b[0m \u001b[1m0s\u001b[0m 52ms/step\n",
      "\u001b[1m1/1\u001b[0m \u001b[32m━━━━━━━━━━━━━━━━━━━━\u001b[0m\u001b[37m\u001b[0m \u001b[1m0s\u001b[0m 51ms/step\n",
      "\u001b[1m1/1\u001b[0m \u001b[32m━━━━━━━━━━━━━━━━━━━━\u001b[0m\u001b[37m\u001b[0m \u001b[1m0s\u001b[0m 57ms/step\n",
      "\u001b[1m1/1\u001b[0m \u001b[32m━━━━━━━━━━━━━━━━━━━━\u001b[0m\u001b[37m\u001b[0m \u001b[1m0s\u001b[0m 58ms/step\n",
      "\u001b[1m1/1\u001b[0m \u001b[32m━━━━━━━━━━━━━━━━━━━━\u001b[0m\u001b[37m\u001b[0m \u001b[1m0s\u001b[0m 53ms/step\n",
      "\u001b[1m1/1\u001b[0m \u001b[32m━━━━━━━━━━━━━━━━━━━━\u001b[0m\u001b[37m\u001b[0m \u001b[1m0s\u001b[0m 48ms/step\n",
      "\u001b[1m1/1\u001b[0m \u001b[32m━━━━━━━━━━━━━━━━━━━━\u001b[0m\u001b[37m\u001b[0m \u001b[1m0s\u001b[0m 49ms/step\n",
      "\u001b[1m1/1\u001b[0m \u001b[32m━━━━━━━━━━━━━━━━━━━━\u001b[0m\u001b[37m\u001b[0m \u001b[1m0s\u001b[0m 59ms/step\n",
      "\u001b[1m1/1\u001b[0m \u001b[32m━━━━━━━━━━━━━━━━━━━━\u001b[0m\u001b[37m\u001b[0m \u001b[1m0s\u001b[0m 61ms/step\n",
      "\u001b[1m1/1\u001b[0m \u001b[32m━━━━━━━━━━━━━━━━━━━━\u001b[0m\u001b[37m\u001b[0m \u001b[1m0s\u001b[0m 61ms/step\n",
      "\u001b[1m1/1\u001b[0m \u001b[32m━━━━━━━━━━━━━━━━━━━━\u001b[0m\u001b[37m\u001b[0m \u001b[1m0s\u001b[0m 67ms/step\n",
      "\u001b[1m1/1\u001b[0m \u001b[32m━━━━━━━━━━━━━━━━━━━━\u001b[0m\u001b[37m\u001b[0m \u001b[1m0s\u001b[0m 54ms/step\n",
      "\u001b[1m1/1\u001b[0m \u001b[32m━━━━━━━━━━━━━━━━━━━━\u001b[0m\u001b[37m\u001b[0m \u001b[1m0s\u001b[0m 60ms/step\n",
      "\u001b[1m1/1\u001b[0m \u001b[32m━━━━━━━━━━━━━━━━━━━━\u001b[0m\u001b[37m\u001b[0m \u001b[1m0s\u001b[0m 47ms/step\n",
      "\u001b[1m1/1\u001b[0m \u001b[32m━━━━━━━━━━━━━━━━━━━━\u001b[0m\u001b[37m\u001b[0m \u001b[1m0s\u001b[0m 48ms/step\n",
      "\u001b[1m1/1\u001b[0m \u001b[32m━━━━━━━━━━━━━━━━━━━━\u001b[0m\u001b[37m\u001b[0m \u001b[1m0s\u001b[0m 54ms/step\n",
      "\u001b[1m1/1\u001b[0m \u001b[32m━━━━━━━━━━━━━━━━━━━━\u001b[0m\u001b[37m\u001b[0m \u001b[1m0s\u001b[0m 46ms/step\n",
      "\u001b[1m1/1\u001b[0m \u001b[32m━━━━━━━━━━━━━━━━━━━━\u001b[0m\u001b[37m\u001b[0m \u001b[1m0s\u001b[0m 59ms/step\n",
      "\u001b[1m1/1\u001b[0m \u001b[32m━━━━━━━━━━━━━━━━━━━━\u001b[0m\u001b[37m\u001b[0m \u001b[1m0s\u001b[0m 50ms/step\n",
      "\u001b[1m1/1\u001b[0m \u001b[32m━━━━━━━━━━━━━━━━━━━━\u001b[0m\u001b[37m\u001b[0m \u001b[1m0s\u001b[0m 53ms/step\n",
      "\u001b[1m1/1\u001b[0m \u001b[32m━━━━━━━━━━━━━━━━━━━━\u001b[0m\u001b[37m\u001b[0m \u001b[1m0s\u001b[0m 63ms/step\n",
      "\u001b[1m1/1\u001b[0m \u001b[32m━━━━━━━━━━━━━━━━━━━━\u001b[0m\u001b[37m\u001b[0m \u001b[1m0s\u001b[0m 51ms/step\n",
      "\u001b[1m1/1\u001b[0m \u001b[32m━━━━━━━━━━━━━━━━━━━━\u001b[0m\u001b[37m\u001b[0m \u001b[1m0s\u001b[0m 53ms/step\n",
      "\u001b[1m1/1\u001b[0m \u001b[32m━━━━━━━━━━━━━━━━━━━━\u001b[0m\u001b[37m\u001b[0m \u001b[1m0s\u001b[0m 65ms/step\n",
      "\u001b[1m1/1\u001b[0m \u001b[32m━━━━━━━━━━━━━━━━━━━━\u001b[0m\u001b[37m\u001b[0m \u001b[1m0s\u001b[0m 49ms/step\n",
      "\u001b[1m1/1\u001b[0m \u001b[32m━━━━━━━━━━━━━━━━━━━━\u001b[0m\u001b[37m\u001b[0m \u001b[1m0s\u001b[0m 48ms/step\n",
      "\u001b[1m1/1\u001b[0m \u001b[32m━━━━━━━━━━━━━━━━━━━━\u001b[0m\u001b[37m\u001b[0m \u001b[1m0s\u001b[0m 49ms/step\n",
      "\u001b[1m1/1\u001b[0m \u001b[32m━━━━━━━━━━━━━━━━━━━━\u001b[0m\u001b[37m\u001b[0m \u001b[1m0s\u001b[0m 47ms/step\n",
      "\u001b[1m1/1\u001b[0m \u001b[32m━━━━━━━━━━━━━━━━━━━━\u001b[0m\u001b[37m\u001b[0m \u001b[1m0s\u001b[0m 57ms/step\n",
      "\u001b[1m1/1\u001b[0m \u001b[32m━━━━━━━━━━━━━━━━━━━━\u001b[0m\u001b[37m\u001b[0m \u001b[1m0s\u001b[0m 71ms/step\n",
      "\u001b[1m1/1\u001b[0m \u001b[32m━━━━━━━━━━━━━━━━━━━━\u001b[0m\u001b[37m\u001b[0m \u001b[1m0s\u001b[0m 61ms/step\n",
      "\u001b[1m1/1\u001b[0m \u001b[32m━━━━━━━━━━━━━━━━━━━━\u001b[0m\u001b[37m\u001b[0m \u001b[1m0s\u001b[0m 56ms/step\n",
      "\u001b[1m1/1\u001b[0m \u001b[32m━━━━━━━━━━━━━━━━━━━━\u001b[0m\u001b[37m\u001b[0m \u001b[1m0s\u001b[0m 58ms/step\n",
      "\u001b[1m1/1\u001b[0m \u001b[32m━━━━━━━━━━━━━━━━━━━━\u001b[0m\u001b[37m\u001b[0m \u001b[1m0s\u001b[0m 54ms/step\n",
      "\u001b[1m1/1\u001b[0m \u001b[32m━━━━━━━━━━━━━━━━━━━━\u001b[0m\u001b[37m\u001b[0m \u001b[1m0s\u001b[0m 62ms/step\n",
      "\u001b[1m1/1\u001b[0m \u001b[32m━━━━━━━━━━━━━━━━━━━━\u001b[0m\u001b[37m\u001b[0m \u001b[1m0s\u001b[0m 47ms/step\n",
      "\u001b[1m1/1\u001b[0m \u001b[32m━━━━━━━━━━━━━━━━━━━━\u001b[0m\u001b[37m\u001b[0m \u001b[1m0s\u001b[0m 57ms/step\n",
      "\u001b[1m1/1\u001b[0m \u001b[32m━━━━━━━━━━━━━━━━━━━━\u001b[0m\u001b[37m\u001b[0m \u001b[1m0s\u001b[0m 55ms/step\n",
      "\u001b[1m1/1\u001b[0m \u001b[32m━━━━━━━━━━━━━━━━━━━━\u001b[0m\u001b[37m\u001b[0m \u001b[1m0s\u001b[0m 53ms/step\n",
      "\u001b[1m1/1\u001b[0m \u001b[32m━━━━━━━━━━━━━━━━━━━━\u001b[0m\u001b[37m\u001b[0m \u001b[1m0s\u001b[0m 58ms/step\n",
      "\u001b[1m1/1\u001b[0m \u001b[32m━━━━━━━━━━━━━━━━━━━━\u001b[0m\u001b[37m\u001b[0m \u001b[1m0s\u001b[0m 56ms/step\n",
      "\u001b[1m1/1\u001b[0m \u001b[32m━━━━━━━━━━━━━━━━━━━━\u001b[0m\u001b[37m\u001b[0m \u001b[1m0s\u001b[0m 54ms/step\n",
      "\u001b[1m1/1\u001b[0m \u001b[32m━━━━━━━━━━━━━━━━━━━━\u001b[0m\u001b[37m\u001b[0m \u001b[1m0s\u001b[0m 64ms/step\n",
      "\u001b[1m1/1\u001b[0m \u001b[32m━━━━━━━━━━━━━━━━━━━━\u001b[0m\u001b[37m\u001b[0m \u001b[1m0s\u001b[0m 63ms/step\n",
      "\u001b[1m1/1\u001b[0m \u001b[32m━━━━━━━━━━━━━━━━━━━━\u001b[0m\u001b[37m\u001b[0m \u001b[1m0s\u001b[0m 59ms/step\n",
      "\u001b[1m1/1\u001b[0m \u001b[32m━━━━━━━━━━━━━━━━━━━━\u001b[0m\u001b[37m\u001b[0m \u001b[1m0s\u001b[0m 54ms/step\n",
      "\u001b[1m1/1\u001b[0m \u001b[32m━━━━━━━━━━━━━━━━━━━━\u001b[0m\u001b[37m\u001b[0m \u001b[1m0s\u001b[0m 54ms/step\n",
      "\u001b[1m1/1\u001b[0m \u001b[32m━━━━━━━━━━━━━━━━━━━━\u001b[0m\u001b[37m\u001b[0m \u001b[1m0s\u001b[0m 56ms/step\n",
      "\u001b[1m1/1\u001b[0m \u001b[32m━━━━━━━━━━━━━━━━━━━━\u001b[0m\u001b[37m\u001b[0m \u001b[1m0s\u001b[0m 48ms/step\n",
      "\u001b[1m1/1\u001b[0m \u001b[32m━━━━━━━━━━━━━━━━━━━━\u001b[0m\u001b[37m\u001b[0m \u001b[1m0s\u001b[0m 55ms/step\n",
      "\u001b[1m1/1\u001b[0m \u001b[32m━━━━━━━━━━━━━━━━━━━━\u001b[0m\u001b[37m\u001b[0m \u001b[1m0s\u001b[0m 46ms/step\n",
      "\u001b[1m1/1\u001b[0m \u001b[32m━━━━━━━━━━━━━━━━━━━━\u001b[0m\u001b[37m\u001b[0m \u001b[1m0s\u001b[0m 75ms/step\n",
      "\u001b[1m1/1\u001b[0m \u001b[32m━━━━━━━━━━━━━━━━━━━━\u001b[0m\u001b[37m\u001b[0m \u001b[1m0s\u001b[0m 67ms/step\n",
      "\u001b[1m1/1\u001b[0m \u001b[32m━━━━━━━━━━━━━━━━━━━━\u001b[0m\u001b[37m\u001b[0m \u001b[1m0s\u001b[0m 61ms/step\n",
      "\u001b[1m1/1\u001b[0m \u001b[32m━━━━━━━━━━━━━━━━━━━━\u001b[0m\u001b[37m\u001b[0m \u001b[1m0s\u001b[0m 55ms/step\n",
      "\u001b[1m1/1\u001b[0m \u001b[32m━━━━━━━━━━━━━━━━━━━━\u001b[0m\u001b[37m\u001b[0m \u001b[1m0s\u001b[0m 58ms/step\n",
      "\u001b[1m1/1\u001b[0m \u001b[32m━━━━━━━━━━━━━━━━━━━━\u001b[0m\u001b[37m\u001b[0m \u001b[1m0s\u001b[0m 55ms/step\n",
      "\u001b[1m1/1\u001b[0m \u001b[32m━━━━━━━━━━━━━━━━━━━━\u001b[0m\u001b[37m\u001b[0m \u001b[1m0s\u001b[0m 55ms/step\n",
      "\u001b[1m1/1\u001b[0m \u001b[32m━━━━━━━━━━━━━━━━━━━━\u001b[0m\u001b[37m\u001b[0m \u001b[1m0s\u001b[0m 47ms/step\n",
      "\u001b[1m1/1\u001b[0m \u001b[32m━━━━━━━━━━━━━━━━━━━━\u001b[0m\u001b[37m\u001b[0m \u001b[1m0s\u001b[0m 64ms/step\n",
      "\u001b[1m1/1\u001b[0m \u001b[32m━━━━━━━━━━━━━━━━━━━━\u001b[0m\u001b[37m\u001b[0m \u001b[1m0s\u001b[0m 67ms/step\n",
      "\u001b[1m1/1\u001b[0m \u001b[32m━━━━━━━━━━━━━━━━━━━━\u001b[0m\u001b[37m\u001b[0m \u001b[1m0s\u001b[0m 58ms/step\n",
      "\u001b[1m1/1\u001b[0m \u001b[32m━━━━━━━━━━━━━━━━━━━━\u001b[0m\u001b[37m\u001b[0m \u001b[1m0s\u001b[0m 62ms/step\n",
      "\u001b[1m1/1\u001b[0m \u001b[32m━━━━━━━━━━━━━━━━━━━━\u001b[0m\u001b[37m\u001b[0m \u001b[1m0s\u001b[0m 58ms/step\n",
      "\u001b[1m1/1\u001b[0m \u001b[32m━━━━━━━━━━━━━━━━━━━━\u001b[0m\u001b[37m\u001b[0m \u001b[1m0s\u001b[0m 52ms/step\n",
      "\u001b[1m1/1\u001b[0m \u001b[32m━━━━━━━━━━━━━━━━━━━━\u001b[0m\u001b[37m\u001b[0m \u001b[1m0s\u001b[0m 54ms/step\n",
      "\u001b[1m1/1\u001b[0m \u001b[32m━━━━━━━━━━━━━━━━━━━━\u001b[0m\u001b[37m\u001b[0m \u001b[1m0s\u001b[0m 54ms/step\n",
      "\u001b[1m1/1\u001b[0m \u001b[32m━━━━━━━━━━━━━━━━━━━━\u001b[0m\u001b[37m\u001b[0m \u001b[1m0s\u001b[0m 67ms/step\n",
      "\u001b[1m1/1\u001b[0m \u001b[32m━━━━━━━━━━━━━━━━━━━━\u001b[0m\u001b[37m\u001b[0m \u001b[1m0s\u001b[0m 53ms/step\n",
      "\u001b[1m1/1\u001b[0m \u001b[32m━━━━━━━━━━━━━━━━━━━━\u001b[0m\u001b[37m\u001b[0m \u001b[1m0s\u001b[0m 56ms/step\n",
      "\u001b[1m1/1\u001b[0m \u001b[32m━━━━━━━━━━━━━━━━━━━━\u001b[0m\u001b[37m\u001b[0m \u001b[1m0s\u001b[0m 53ms/step\n",
      "\u001b[1m1/1\u001b[0m \u001b[32m━━━━━━━━━━━━━━━━━━━━\u001b[0m\u001b[37m\u001b[0m \u001b[1m0s\u001b[0m 52ms/step\n",
      "\u001b[1m1/1\u001b[0m \u001b[32m━━━━━━━━━━━━━━━━━━━━\u001b[0m\u001b[37m\u001b[0m \u001b[1m0s\u001b[0m 49ms/step\n",
      "\u001b[1m1/1\u001b[0m \u001b[32m━━━━━━━━━━━━━━━━━━━━\u001b[0m\u001b[37m\u001b[0m \u001b[1m0s\u001b[0m 60ms/step\n",
      "\u001b[1m1/1\u001b[0m \u001b[32m━━━━━━━━━━━━━━━━━━━━\u001b[0m\u001b[37m\u001b[0m \u001b[1m0s\u001b[0m 61ms/step\n",
      "\u001b[1m1/1\u001b[0m \u001b[32m━━━━━━━━━━━━━━━━━━━━\u001b[0m\u001b[37m\u001b[0m \u001b[1m0s\u001b[0m 48ms/step\n",
      "\u001b[1m1/1\u001b[0m \u001b[32m━━━━━━━━━━━━━━━━━━━━\u001b[0m\u001b[37m\u001b[0m \u001b[1m0s\u001b[0m 52ms/step\n",
      "Top 10 Recommended Recipes for User 13695\n",
      "Top 1: Banana Bars with Cream Cheese Frosting (Predicted Rating: 5.0)\n",
      "Top 2: Vegetarian Linguine (Predicted Rating: 4.9921979904174805)\n",
      "Top 3: Pineapple Pudding Cake (Predicted Rating: 4.952154636383057)\n",
      "Top 4: Mom’s Meat Loaf (Predicted Rating: 4.952000617980957)\n",
      "Top 5: Chocolate-Strawberry Celebration Cake (Predicted Rating: 4.9507622718811035)\n",
      "Top 6: Rustic Italian Tortellini Soup (Predicted Rating: 4.946717739105225)\n",
      "Top 7: Big Soft Ginger Cookies (Predicted Rating: 4.941648960113525)\n",
      "Top 8: Basic Banana Muffins (Predicted Rating: 4.926901340484619)\n",
      "Top 9: Buttery Cornbread (Predicted Rating: 4.925362586975098)\n",
      "Top 10: Stuffed Pepper Soup (Predicted Rating: 4.922950744628906)\n"
     ]
    }
   ],
   "source": [
    "#Generating Top Recipe Recommendations for a User `13695 `\n",
    "user_id = 13695\n",
    "all_recipe_ids = np.unique(ratings_df['recipe_code'])\n",
    "\n",
    "predicted_ratings = []\n",
    "\n",
    "for recipe_code in all_recipe_ids:\n",
    "    # Predict the rating for the user and recipe\n",
    "    predicted_rating = model.predict([np.array([user_id]), np.array([recipe_code])])[0][0]\n",
    "\n",
    "\n",
    "    # Clip the predicted rating to the range of 0.5 to 5.0\n",
    "    predicted_rating = max(0.5, min(predicted_rating, 5.0))\n",
    "\n",
    "    predicted_ratings.append((recipe_code, predicted_rating))\n",
    "\n",
    "# Sort the predicted ratings to find top recommendations\n",
    "predicted_ratings.sort(key=lambda x: x[1], reverse=True)\n",
    "top_recommendations = predicted_ratings[:10]\n",
    "\n",
    "# Print top recommendations\n",
    "print(\"Top 10 Recommended Recipes for User\", user_id)\n",
    "\n",
    "for i, (recipe_code, predicted_rating) in enumerate(top_recommendations):\n",
    "    recipe_name = df.loc[df['recipe_code'] == recipe_code, 'recipe_name'].iloc[0]\n",
    "    print(f\"Top {i+1}: {recipe_name} (Predicted Rating: {predicted_rating})\")\n"
   ]
  },
  {
   "cell_type": "markdown",
   "metadata": {
    "id": "4AivXcv5YBj7"
   },
   "source": [
    "The recommendations are based on the predicted ratings generated by the recommendation model for the  user. The predicted ratings are sorted in descending order to identify the top 10 recipes that the user is most likely to enjoy. Recipes with higher predicted ratings are considered to be more aligned with the user's preferences, while those with lower ratings may be less preferred."
   ]
  },
  {
   "cell_type": "code",
   "execution_count": 65,
   "metadata": {
    "id": "Qjsqwzo3q062"
   },
   "outputs": [
    {
     "name": "stdout",
     "output_type": "stream",
     "text": [
      "Top recommendations saved to: top_recommendations.pkl\n"
     ]
    }
   ],
   "source": [
    "import pickle\n",
    "\n",
    "# File path to save the pickle file\n",
    "pickle_file_path = 'top_recommendations.pkl'\n",
    "\n",
    "# Save the top_recommendations list to a pickle file\n",
    "with open(pickle_file_path, 'wb') as file:\n",
    "    pickle.dump(top_recommendations, file)\n",
    "\n",
    "print(\"Top recommendations saved to:\", pickle_file_path)\n",
    "\n"
   ]
  },
  {
   "cell_type": "code",
   "execution_count": null,
   "metadata": {},
   "outputs": [],
   "source": []
  }
 ],
 "metadata": {
  "colab": {
   "provenance": []
  },
  "kernelspec": {
   "display_name": "Python 3 (ipykernel)",
   "language": "python",
   "name": "python3"
  },
  "language_info": {
   "codemirror_mode": {
    "name": "ipython",
    "version": 3
   },
   "file_extension": ".py",
   "mimetype": "text/x-python",
   "name": "python",
   "nbconvert_exporter": "python",
   "pygments_lexer": "ipython3",
   "version": "3.11.5"
  }
 },
 "nbformat": 4,
 "nbformat_minor": 1
}
